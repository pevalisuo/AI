{
 "cells": [
  {
   "cell_type": "markdown",
   "metadata": {},
   "source": [
    "# Artificial Intelligence: Concepts, Challenges, and Opportunities (2021), exercises\n",
    "\n",
    "\n",
    "## Material for Quiz 9\n",
    "\n",
    "Start from the beginning of the notebook and execute each code cell by first activating it and then pressing `Shift-Enter` keys at the same time. The focus automatically moves to the next cell and you may \"execute\" that cell by pressing `Shift-Enter` again, until you have reached a cell which contains a tag:\n",
    "\n",
    "> YOUR CODE HERE\n",
    "\n",
    "Follow the instructions and fill in your solution under the line marked by tag.\n",
    "\n",
    "Having written the answer, execute the code cell by and pressing `Shift-Enter` key combination. The code is run, and it may print some information under the code cell. Then execute in a similar way a cell below the input cell, which tests your solution. Execute that and follow the feedback. Usually it either says that the solution seems acceptable, or reports some errors. You can go back to your solution, modify it and repeat everything until you are satisfied. Then proceed to the next task.\n",
    "   \n",
    "Repeat the process for all tasks.\n",
    "\n",
    "When you are finished working with the notebook, download the whole notebook by using menu `File -> Download`. Save the file in your hard disk in case you need it later, because everything in the binder will be destroyed when the server expires.\n",
    "\n",
    "When you are finished working with the notebook, you should be ready to answer to the questions in the Quizz.\n"
   ]
  },
  {
   "cell_type": "markdown",
   "metadata": {},
   "source": [
    "# Solving 8-puzzle with A*\n",
    "\n",
    "The possible moves in the 8-puzzle game forms a graph. Obviously, if the tree is expanded from all possible moves, the goal state will be included in the tree. The goal can be find using graph search algorithms, such as A*.\n",
    "\n",
    "![EightPuzzleGraph](8puzzle-tree.svg)\n",
    "\n",
    "This 8-puzzle is still quite small, in general the number of possible moves will grow exponentially, and the resulting graph may become very large. Most of the branches are, however, bad moves and not necessary to include in the search graph. Therefore good strategy is to use a heuristic function to assess the quality of the possible branches with some heuristic method before expanding the branch further. This kind of expanding-on-the-go is not directly supported by networkx library, and therefore this is better to solve using tailor made implementation of the search algorithm. \n",
    "\n",
    "In this example an implementation included in the course book is used:\n",
    "   \n",
    "> Python code for the book *[Artificial Intelligence: A Modern Approach](http://aima.cs.berkeley.edu).* You can use this in conjunction with a course on AI, or for study on your own. We're looking for [solid contributors](https://github.com/aimacode/aima-python/blob/master/CONTRIBUTING.md) to help."
   ]
  },
  {
   "cell_type": "markdown",
   "metadata": {},
   "source": [
    "Import some libraries and define a simple function for displaying the puzzle."
   ]
  },
  {
   "cell_type": "code",
   "execution_count": null,
   "metadata": {
    "ExecuteTime": {
     "end_time": "2021-11-02T17:20:21.106427Z",
     "start_time": "2021-11-02T17:20:21.101309Z"
    }
   },
   "outputs": [],
   "source": [
    "from search import EightPuzzle, recursive_best_first_search, astar_search\n",
    "import numpy as np\n",
    "import ipywidgets as widgets\n",
    "from IPython.display import display"
   ]
  },
  {
   "cell_type": "code",
   "execution_count": null,
   "metadata": {
    "ExecuteTime": {
     "end_time": "2021-11-02T17:20:36.783151Z",
     "start_time": "2021-11-02T17:20:36.777181Z"
    }
   },
   "outputs": [],
   "source": [
    "def displayPuzzle(state):\n",
    "    Bstyle=widgets.Layout(width='30px',)\n",
    "    items = [widgets.Button(description=str(i), layout=Bstyle) for i in state]\n",
    "    display(widgets.GridBox(items, layout=widgets.Layout(grid_template_columns=\"repeat(3, 35px)\")))"
   ]
  },
  {
   "cell_type": "markdown",
   "metadata": {},
   "source": [
    "Now I just set up an initial state and goal state, and display them."
   ]
  },
  {
   "cell_type": "code",
   "execution_count": null,
   "metadata": {
    "ExecuteTime": {
     "end_time": "2021-11-02T17:21:07.624151Z",
     "start_time": "2021-11-02T17:21:07.521162Z"
    }
   },
   "outputs": [],
   "source": [
    "print(\"Intial state:\")\n",
    "initial_state=(2, 4, 3, 1, 5, 6, 7, 8, 0)\n",
    "displayPuzzle(initial_state)\n",
    "\n",
    "print(\"\\nGoal state:\", end='')\n",
    "goal_state=(1, 2, 3, 4, 5, 6, 7, 8, 0)\n",
    "displayPuzzle(goal_state)\n",
    "\n",
    "puzzle = EightPuzzle(initial_state)"
   ]
  },
  {
   "cell_type": "markdown",
   "metadata": {},
   "source": [
    "## Task 1: Define linear heuristic function\n",
    "\n",
    "Now everything is ready for solution. \n",
    "\n",
    "Implement a simple linear heuristic function, which simply calculates the number of tiles in wrong position in the current state. The current state and the goal state are given as arguments to the function. Both are given as simple vector of items: `linear(initial_state, goal_state)`.\n",
    "\n",
    "The search algorithm uses this heuristic function when evaluating each node. Based on the result of the heuristic function, the search is directed towards optimal paths."
   ]
  },
  {
   "cell_type": "code",
   "execution_count": null,
   "metadata": {
    "ExecuteTime": {
     "end_time": "2021-11-02T19:52:47.345741Z",
     "start_time": "2021-11-02T19:52:47.339388Z"
    }
   },
   "outputs": [],
   "source": [
    "# YOUR CODE HERE"
   ]
  },
  {
   "cell_type": "code",
   "execution_count": null,
   "metadata": {
    "ExecuteTime": {
     "end_time": "2021-11-02T18:04:47.183819Z",
     "start_time": "2021-11-02T18:04:47.164791Z"
    },
    "nbgrader": {
     "grade": false,
     "grade_id": "cell-3acd37f4df6cde58",
     "locked": true,
     "schema_version": 3,
     "solution": false,
     "task": false
    }
   },
   "outputs": [],
   "source": [
    "distance=linear(initial_state, goal_state)\n",
    "def heuristic(node):\n",
    "    return linear(node.state, goal_state)\n",
    "\n",
    "path=astar_search(puzzle, heuristic).solution()\n",
    "moves_needed=len(path)\n",
    "print(\"Distance=\", distance, \", moves=\", moves_needed)\n",
    "print(\"Path=\", path)\n",
    "\n",
    "assert(linear(initial_state, goal_state)==3)\n",
    "assert(moves_needed == 8)\n",
    "\n",
    "print(\"SUCCESS\")"
   ]
  },
  {
   "cell_type": "markdown",
   "metadata": {},
   "source": [
    "## Task 2: Define heuristic function using Manhattan distance\n",
    "\n",
    "**You can choose to answer either Task 2 or Task 4. If you do not want to answer to this question, write your answer on Task 4!**\n",
    "\n",
    "Implement heuristic function, which return is the sum of manhattan distances of each tile from the correct position. For example in the initial state the distance from the goal state would be:\n",
    "\n",
    "|Tile | horizontal distance | vertical distance | total distance |\n",
    "|-----|------|-----|------|\n",
    "|      1  | 0 |                   1    |              1 |\n",
    "|      2  | 1 |                   0    |              1 |\n",
    "|      3  | 0 |                   0    |              0 |\n",
    "|      4  | 1 |                   1    |              2 |\n",
    "|      5  | 0 |                   0    |              0 |\n",
    "|      6  | 0 |                   0    |              0 |\n",
    "|      7  | 0 |                   0    |              0 |\n",
    "|      8  | 0 |                   0    |              0 |\n",
    "\n",
    "\n",
    "\n",
    "\n",
    "The rest of the tiles are in correct places. The total Manhattan distance is in this case 1+1+2 = 4.\n",
    "\n",
    "Tip! You may find Python operators for modulus (%) and integer division (//) quite useful.\n"
   ]
  },
  {
   "cell_type": "code",
   "execution_count": null,
   "metadata": {
    "ExecuteTime": {
     "end_time": "2021-11-02T16:47:22.666366Z",
     "start_time": "2021-11-02T16:47:22.651988Z"
    }
   },
   "outputs": [],
   "source": [
    "# YOUR CODE HERE\n"
   ]
  },
  {
   "cell_type": "code",
   "execution_count": null,
   "metadata": {
    "ExecuteTime": {
     "end_time": "2021-11-02T16:47:24.180476Z",
     "start_time": "2021-11-02T16:47:24.176769Z"
    },
    "nbgrader": {
     "grade": false,
     "grade_id": "cell-09a1e4830c0d8e61",
     "locked": true,
     "schema_version": 3,
     "solution": false,
     "task": false
    }
   },
   "outputs": [],
   "source": [
    "distance=manhattan(initial_state, goal_state)\n",
    "def heuristic(node):\n",
    "    return manhattan(node.state, goal_state)\n",
    "\n",
    "path=astar_search(puzzle, heuristic).solution()\n",
    "moves_needed=len(path)\n",
    "print(\"Distance=\", distance, \", moves=\", moves_needed)\n",
    "print(\"Path=\", path)\n",
    "\n",
    "assert(manhattan(initial_state, goal_state)==4)\n",
    "assert(moves_needed == 8)\n",
    "\n",
    "print(\"SUCCESS\")"
   ]
  },
  {
   "cell_type": "markdown",
   "metadata": {},
   "source": [
    "## Task 3. Running time\n",
    "\n",
    "Whatever heuristic function is used, the algorithm seems to find the same path. That is because it uses recursive search, to search over several possible paths, and chooses the best one. But the heuristic function affects how fast the solutions are found. \n",
    "\n",
    "The `%timeit` operator in Jupyter notebooks can be used in finding out how long does it take to accomplish an algorithm. It usullay runs the algorith many times, like 100 or 1000, and estimates the average running time. Take a look at the running times reported below. "
   ]
  },
  {
   "cell_type": "code",
   "execution_count": null,
   "metadata": {
    "ExecuteTime": {
     "end_time": "2021-11-02T16:47:32.284260Z",
     "start_time": "2021-11-02T16:47:26.771497Z"
    }
   },
   "outputs": [],
   "source": [
    "# Estimate the time of finding the solution without heuristic function\n",
    "\n",
    "def heuristic(node):\n",
    "    return 0\n",
    "%timeit astar_search(puzzle, heuristic).solution()"
   ]
  },
  {
   "cell_type": "code",
   "execution_count": null,
   "metadata": {
    "ExecuteTime": {
     "end_time": "2021-11-02T16:47:47.977693Z",
     "start_time": "2021-11-02T16:47:34.497660Z"
    }
   },
   "outputs": [],
   "source": [
    "# Estimate the time of finding the solution with linear heuristic function\n",
    "\n",
    "def heuristic(node):\n",
    "    return linear(node.state, goal_state)\n",
    "%timeit astar_search(puzzle, heuristic).solution()"
   ]
  },
  {
   "cell_type": "code",
   "execution_count": null,
   "metadata": {
    "ExecuteTime": {
     "end_time": "2021-11-02T16:48:43.493845Z",
     "start_time": "2021-11-02T16:48:41.317113Z"
    }
   },
   "outputs": [],
   "source": [
    "# Estimate the time of finding the solution with manhattan heuristic function\n",
    "def heuristic(node):\n",
    "    return manhattan(node.state, goal_state)\n",
    "%timeit astar_search(puzzle, heuristic).solution()"
   ]
  },
  {
   "cell_type": "markdown",
   "metadata": {},
   "source": [
    "# Finally \n",
    "\n",
    "When you are ready with this notebook, you can answer to the questions related to Task 1-3 in Quiz 9 in Moodle."
   ]
  }
 ],
 "metadata": {
  "celltoolbar": "Create Assignment",
  "kernelspec": {
   "display_name": "Python 3 (ipykernel)",
   "language": "python",
   "name": "python3"
  },
  "language_info": {
   "codemirror_mode": {
    "name": "ipython",
    "version": 3
   },
   "file_extension": ".py",
   "mimetype": "text/x-python",
   "name": "python",
   "nbconvert_exporter": "python",
   "pygments_lexer": "ipython3",
   "version": "3.9.2"
  },
  "toc": {
   "base_numbering": 1,
   "nav_menu": {},
   "number_sections": true,
   "sideBar": true,
   "skip_h1_title": false,
   "title_cell": "Table of Contents",
   "title_sidebar": "Contents",
   "toc_cell": false,
   "toc_position": {},
   "toc_section_display": true,
   "toc_window_display": false
  }
 },
 "nbformat": 4,
 "nbformat_minor": 4
}
