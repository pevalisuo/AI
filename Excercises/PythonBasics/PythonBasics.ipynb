{
 "cells": [
  {
   "cell_type": "markdown",
   "metadata": {},
   "source": [
    "# Python Basics\n",
    "\n",
    "Python is an interpreted programming language. It means that the computer interpretes the code while it is running. In contrast, many other programming languages are compiled, and you need to compile the code before it can be run. As intepreted language, python is very interactive, which makes it easy to learn by trial and error method."
   ]
  },
  {
   "cell_type": "code",
   "execution_count": 2,
   "metadata": {},
   "outputs": [
    {
     "name": "stdout",
     "output_type": "stream",
     "text": [
      "Why python?\n"
     ]
    }
   ],
   "source": [
    "print(\"Why python?\")"
   ]
  },
  {
   "cell_type": "markdown",
   "metadata": {},
   "source": [
    "- It is *free and open source* and it *runs everywhere* (in your phone, Raspberry-Pi, Cray, ...)\n",
    "- It is *easy to learn* (interactive, simple commands, works as a desktop calculator)\n",
    "- It has really *good libraries* for Machine Learning and AI\n",
    "- It can be used in a *notebook*, like this, without installing anything in your own computer"
   ]
  },
  {
   "cell_type": "markdown",
   "metadata": {},
   "source": [
    "## What is programming?\n",
    "\n",
    "Programming is telling instructions to the computer, to make it work for you. The computer is your slave, which you can command as you like, but it is only a little picky about the language. You need to learn it's language before you can start commanding it. \n",
    "\n",
    "Lets start with some examples:\n",
    "\n",
    "### Tell the computer to say hello\n",
    "\n",
    "The computer does not actually say anything, but it can print a message to the screen. The printing is handled using a command `print` and giving a message to the print-command. These commands are in computing slang often called as functions, and the message and other data is given to the command by enclosing it in parentheses after the function name. Just like using a functions in mathematics: $sin(0.5)$ or $y=f(x)$. Because we want computer to output a string of characters, we have to give this data in parentheses to the `print`-function. The computer wants all string literals to be quoted, so it is given then in single or double quotes, as follows:"
   ]
  },
  {
   "cell_type": "code",
   "execution_count": 3,
   "metadata": {},
   "outputs": [
    {
     "name": "stdout",
     "output_type": "stream",
     "text": [
      "Hello!\n"
     ]
    }
   ],
   "source": [
    "print(\"Hello!\")"
   ]
  },
  {
   "cell_type": "markdown",
   "metadata": {},
   "source": [
    "The program code was in this notebook written in specific code cell, and the output from that cell is printed after the code cell, like shown above. This text is written in the specific text cell, using a markup language called (Markdown).\n",
    "\n",
    "In similar way, the computer can be ordered to print integers, floating point numbers and even results of the calculations, etc:"
   ]
  },
  {
   "cell_type": "code",
   "execution_count": 5,
   "metadata": {},
   "outputs": [
    {
     "name": "stdout",
     "output_type": "stream",
     "text": [
      "2\n",
      "3.14159\n",
      "4\n"
     ]
    }
   ],
   "source": [
    "print(2)\n",
    "print(3.14159)\n",
    "print(2+2)"
   ]
  },
  {
   "cell_type": "markdown",
   "metadata": {},
   "source": [
    "The cell can be also used for making calculations, and the result of the last calculation is automatically printed"
   ]
  },
  {
   "cell_type": "code",
   "execution_count": 47,
   "metadata": {},
   "outputs": [
    {
     "name": "stdout",
     "output_type": "stream",
     "text": [
      "7\n"
     ]
    },
    {
     "data": {
      "text/plain": [
       "35"
      ]
     },
     "execution_count": 47,
     "metadata": {},
     "output_type": "execute_result"
    }
   ],
   "source": [
    "print(2+5)\n",
    "5*7"
   ]
  },
  {
   "cell_type": "markdown",
   "metadata": {},
   "source": [
    "### Repeating boring things"
   ]
  },
  {
   "cell_type": "markdown",
   "metadata": {},
   "source": [
    "Computer can be also made to repeat boring tasks as many time as you want. If you want to say hello to many different persons, you can repeat the printing in a loop.\n",
    "\n",
    "- In the following code, there is first a keyword `for`. It is the beginning of the loop, and it's purpose is to repeat a same task *for* a list of values.\n",
    "- `name` is a placeholder for a string, and each name in the following list will be assigned into this placeholder placeholder. This kind of placeholder is called as a *variable*, very similar than variables in mathematics. \n",
    "- `in` is a keyword determining in a for-loop, the list whole values will be assigned one by one to the variable `name`. \n",
    "- Next there is a list of quoted string values, the names, which are simply separated by commas. This list is exactly how you would write a list of names with pen and paper, just withoud quotes perhaps. The computer insists using quotes.\n",
    "- The last character in the line is a semicolon `:`. It is also mandatory. It shows the beginning of the block which is going to be be repeated in a for loop.\n",
    "- Next line (line 2) is intended with a few white spaces, which you can enter by just pressing the TAB-key once. Every line which is intended, belongs to the block, which is going to be repeated in the for-loop. The purpose of the line is to print a list of strings. The first string is the string literal \"Hello\", and the second string is the contents of the variable name.\n",
    "- The last line (line 3) is not intended any longer, and it is not therefore repeated by the for loop, but only executed after the for-loop is finished. It will print the final string literal.\n",
    "- After running the line 3, the program is finished, and it's execution is terminated, untill it is possibly re-run by you later."
   ]
  },
  {
   "cell_type": "code",
   "execution_count": 14,
   "metadata": {
    "scrolled": false
   },
   "outputs": [
    {
     "name": "stdout",
     "output_type": "stream",
     "text": [
      "Hello Aapeli\n",
      "Hello Elmo\n",
      "Hello Ruut\n",
      "Hello Lea\n",
      "Hello Harri\n",
      "Good bye.\n"
     ]
    }
   ],
   "source": [
    "for name in \"Aapeli\", \"Elmo\", \"Ruut\", \"Lea\", \"Harri\":\n",
    "    print(\"Hello\", name)\n",
    "print(\"Good bye.\")"
   ]
  },
  {
   "cell_type": "markdown",
   "metadata": {},
   "source": [
    "**Try it yourself:** Try to add intendation in the beginning of line 3, so that it will be also repeated in the loop. Press Shft-Enter while still staying in the program cell, to run the code after the changes."
   ]
  },
  {
   "cell_type": "markdown",
   "metadata": {},
   "source": [
    "### Looping over pre-defined number of times\n",
    "\n",
    "For-loop can easily repeat a needed task for a certain number of times.\n",
    "\n",
    "- In the following code, in line 1, a variable called `N` is created, and an integer-value 10 is stored in it.\n",
    "- In line 2, a for loop is repeated over a range of integer values. The `range(N)` function creates a list of integers in the range of 0..N. In this case the result is the following list `0, 1, 2, 3, 4, 5, 6, 7, 8, 9 `. Notice that the range starts from zero, and number 10 is not included. The produced list contains exactly 10 values.\n",
    "- The print statement in line 3 is repeated within a for loop. It prints one string, which contains among other things, a placeholder for integer value `%d`. The string literal is followed by a percent sign, and the list of values which will be assigned into the placeholder in the string. In this case, the integer in the variable `i` will be expanded in place of placeholder.\n"
   ]
  },
  {
   "cell_type": "code",
   "execution_count": 23,
   "metadata": {},
   "outputs": [
    {
     "data": {
      "text/plain": [
       "[0, 1, 2, 3, 4, 5, 6, 7, 8, 9]"
      ]
     },
     "execution_count": 23,
     "metadata": {},
     "output_type": "execute_result"
    }
   ],
   "source": [
    "list(range(10))"
   ]
  },
  {
   "cell_type": "code",
   "execution_count": 48,
   "metadata": {},
   "outputs": [
    {
     "name": "stdout",
     "output_type": "stream",
     "text": [
      "Current value is 0.\n",
      "Current value is 1.\n",
      "Current value is 2.\n",
      "Current value is 3.\n",
      "Current value is 4.\n",
      "Current value is 5.\n",
      "Current value is 6.\n",
      "Current value is 7.\n",
      "Current value is 8.\n",
      "Current value is 9.\n"
     ]
    }
   ],
   "source": [
    "N=10\n",
    "for i in range(N):\n",
    "    print(\"Current value is %d.\" % (i))"
   ]
  },
  {
   "cell_type": "markdown",
   "metadata": {},
   "source": [
    "### While"
   ]
  },
  {
   "cell_type": "markdown",
   "metadata": {},
   "source": [
    "If you do not know beforehand how many times to repeat, use the `while` loop. \n",
    "\n",
    "- The while loop in line 3, repeats the block of code until the condition holds. In this particular case, the loop is repeated until the i squared, $i^2$, is smaller or equal to 90. \n",
    "- The repeated block contains only one line (line 4) and its only purpose is to add one to the previous value of `i`, and assign the result into `i`. This is called as incrementing the value of `i` by one in each repeat.\n",
    "- When the value of `i` is incremented to 10, its squareis 100, and it is no longer smaller than 90, the conditions is false, and the loop terminates. The current value of `i` is kept and will be printed after the loop."
   ]
  },
  {
   "cell_type": "code",
   "execution_count": 26,
   "metadata": {},
   "outputs": [
    {
     "name": "stdout",
     "output_type": "stream",
     "text": [
      "The smallest number whose square is bigger than 90 is 10\n"
     ]
    }
   ],
   "source": [
    "i=0\n",
    "\n",
    "while (i**2)<=90:\n",
    "    i = i + 1\n",
    "    \n",
    "print(\"The smallest number whose square is bigger than 90 is\", i)"
   ]
  },
  {
   "cell_type": "markdown",
   "metadata": {},
   "source": [
    "### What if ..."
   ]
  },
  {
   "cell_type": "code",
   "execution_count": 49,
   "metadata": {},
   "outputs": [
    {
     "name": "stdout",
     "output_type": "stream",
     "text": [
      "The value is small\n"
     ]
    }
   ],
   "source": [
    "value=5\n",
    "if value<10:\n",
    "    print(\"The value is small\")\n",
    "else:\n",
    "    print(\"It is not that small any longer\")"
   ]
  },
  {
   "cell_type": "markdown",
   "metadata": {},
   "source": [
    "**Try it yourself:** Try to assign different integers in `value`, and test how the program works. Try also assigning a decimal value, like 9.5 in `value`. What happens if you assing a string literal in `value`?"
   ]
  },
  {
   "cell_type": "markdown",
   "metadata": {},
   "source": [
    "### Nesting\n",
    "\n",
    "The structures can be easily nested. In this case, the if statement is inside a block repeated by for loop. "
   ]
  },
  {
   "cell_type": "code",
   "execution_count": 40,
   "metadata": {},
   "outputs": [
    {
     "name": "stdout",
     "output_type": "stream",
     "text": [
      "Current value = 0 is small\n",
      "Current value = 1 is small\n",
      "Current value = 2 is small\n",
      "Current value = 3 is small\n",
      "Current value = 4 is small\n",
      "Current value = 5 is medium\n",
      "Current value = 6 is medium\n",
      "Current value = 7 is medium\n",
      "Current value = 8 is medium\n",
      "Current value = 9 is medium\n",
      "Current value = 10 is largish\n",
      "Current value = 11 is largish\n",
      "Current value = 12 is large\n",
      "Current value = 13 is large\n",
      "Current value = 14 is large\n"
     ]
    }
   ],
   "source": [
    "for i in range(15):\n",
    "    if i < 5:\n",
    "        print(\"Current value = %d is small\" % (i))\n",
    "    elif i<10:\n",
    "        print(\"Current value = %d is medium\" % (i))\n",
    "    elif i<12:\n",
    "        print(\"Current value = %d is largish\" % (i))\n",
    "    else:\n",
    "        print(\"Current value = %d is large\" % (i))"
   ]
  },
  {
   "cell_type": "markdown",
   "metadata": {},
   "source": [
    "### Own functions\n",
    "\n",
    "When you have sometimes created a very convenient piece of code, wouldn't it be nice, if you could just give a name of that code and use it any time you want by just calling it by name?\n",
    "\n",
    "It is, and it is exactly what your own functions are. They are in very center of all kinds of programming. "
   ]
  },
  {
   "cell_type": "code",
   "execution_count": 46,
   "metadata": {},
   "outputs": [
    {
     "name": "stdout",
     "output_type": "stream",
     "text": [
      "Current value = 0 is small\n",
      "Current value = 1 is small\n",
      "Current value = 2 is small\n",
      "Current value = 3 is small\n",
      "Current value = 4 is small\n",
      "Current value = 5 is medium\n",
      "Current value = 6 is medium\n",
      "Current value = 7 is medium\n",
      "Current value = 8 is medium\n",
      "Current value = 9 is medium\n",
      "Current value = 0 is small\n",
      "Current value = 1 is small\n",
      "Current value = 2 is small\n",
      "Current value = 3 is small\n",
      "Current value = 4 is small\n"
     ]
    }
   ],
   "source": [
    "def compareNumbers(maxNumber):\n",
    "    for i in range(maxNumber):\n",
    "        if i < 5:\n",
    "            print(\"Current value = %d is small\" % (i))\n",
    "        elif i<10:\n",
    "            print(\"Current value = %d is medium\" % (i))\n",
    "        elif i<12:\n",
    "            print(\"Current value = %d is largish\" % (i))\n",
    "        else:\n",
    "            print(\"Current value = %d is large\" % (i))\n",
    "            \n",
    "compareNumbers(10)\n",
    "compareNumbers(5)"
   ]
  },
  {
   "cell_type": "markdown",
   "metadata": {},
   "source": [
    "# Exercises\n",
    "\n",
    "## Sum of even numbers\n",
    "\n",
    "Make a program, which calculates the sum of even numbers between 0 and 100 (100 not included)."
   ]
  },
  {
   "cell_type": "code",
   "execution_count": null,
   "metadata": {},
   "outputs": [],
   "source": []
  },
  {
   "cell_type": "markdown",
   "metadata": {},
   "source": [
    "## String search\n",
    "\n",
    "Make a program which searchers a name from a list of names.\n",
    "\n",
    "1. Create first a variable which contains a list of names\n",
    "1. Define a variable which contains one string\n",
    "1. Go through the list of names and stop when the search sting is found\n",
    "1. Return the index of the search string in the list"
   ]
  },
  {
   "cell_type": "code",
   "execution_count": null,
   "metadata": {},
   "outputs": [],
   "source": []
  },
  {
   "cell_type": "markdown",
   "metadata": {},
   "source": [
    "## Functions\n",
    "\n",
    "When you have finished the previous tasks, you can implement them as functions\n",
    "1. In the task 2.1, make the function so that the upper limit (currently 100) can be given as parameter, and the functions returns the sum\n",
    "1. In task 2.2, make a function which takes both the search string and the list as arguments and it returns the index of the search string in the list"
   ]
  },
  {
   "cell_type": "code",
   "execution_count": null,
   "metadata": {},
   "outputs": [],
   "source": []
  },
  {
   "cell_type": "markdown",
   "metadata": {},
   "source": [
    "# Some additional links for those interested  \n",
    "\n",
    "Good tools for data analysis with Python\n",
    "  \n",
    "  -  [Pandas](https://pandas.pydata.org/) for statistics, time series data processing and very convenient access to data\n",
    "  - [Scipy](https://www.scipy.org/) for engineering functions, optimisation, intrpolation, ...\n",
    "  - [NumPy](https://numpy.org/) for efficient numerial calculations, linear algebra, ...\n",
    "  - [Scikit-Learn](https://scikit-learn.org/stable/index.html) for Machine learning\n",
    "  - [Matplotlib](https://matplotlib.org/) for plotting graphics\n",
    "  - [Seaborn](https://seaborn.pydata.org/) another plotting library\n",
    "  - [Keras](https://keras.io/) for deep learning, using GPU\n",
    "- Python is also very versatile and can be used for many other purposes as well, and not only for ML\n",
    " \n",
    "Typical tools for programming\n",
    "- [Spyder](https://www.spyder-ide.org/) MATLAB-like programming and analysis interface for Python\n",
    "- [Jupyter](https://jupyter.org/) notebooks and jupyterlab are web based programming environments, which support also dozens of other languages\n",
    "- [Geany](https://www.geany.org/), [Atom](https://atom.io/), [Notepad++](https://notepad-plus-plus.org/) [VS-Code](https://code.visualstudio.com/), [Sublimetex](https://www.sublimetext.com/), [Emacs](https://www.gnu.org/software/emacs/), [VIM](https://www.vim.org/), or any other editor can be used of course\n",
    "- Sometimes it is convenient to work just by using interactive [IPython](https://ipython.org/) console "
   ]
  }
 ],
 "metadata": {
  "kernelspec": {
   "display_name": "Python 3 (ipykernel)",
   "language": "python",
   "name": "python3"
  },
  "language_info": {
   "codemirror_mode": {
    "name": "ipython",
    "version": 3
   },
   "file_extension": ".py",
   "mimetype": "text/x-python",
   "name": "python",
   "nbconvert_exporter": "python",
   "pygments_lexer": "ipython3",
   "version": "3.9.2"
  },
  "toc": {
   "base_numbering": 1,
   "nav_menu": {},
   "number_sections": true,
   "sideBar": true,
   "skip_h1_title": false,
   "title_cell": "Table of Contents",
   "title_sidebar": "Contents",
   "toc_cell": false,
   "toc_position": {},
   "toc_section_display": true,
   "toc_window_display": false
  }
 },
 "nbformat": 4,
 "nbformat_minor": 4
}
