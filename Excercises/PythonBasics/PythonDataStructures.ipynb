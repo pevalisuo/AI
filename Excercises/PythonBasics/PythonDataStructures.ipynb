{
 "cells": [
  {
   "cell_type": "markdown",
   "metadata": {},
   "source": [
    "# Some Python data structures"
   ]
  },
  {
   "cell_type": "markdown",
   "metadata": {},
   "source": [
    "This section covers examples how to use some most important data structures often needed for data analysis. In data analysis we need often arrays and matrices to be able to store many values under one symbolic name.\n",
    "\n",
    "## Python list\n",
    "\n",
    "List is a variable which can store a list of different kind of values. List is created by using square brackets surrounding all necessary values, which are separated with commas:"
   ]
  },
  {
   "cell_type": "code",
   "execution_count": 1,
   "metadata": {
    "ExecuteTime": {
     "end_time": "2021-10-06T10:22:27.229354Z",
     "start_time": "2021-10-06T10:22:27.091563Z"
    }
   },
   "outputs": [
    {
     "name": "stdout",
     "output_type": "stream",
     "text": [
      "[1, 2, 3, 4, 5]\n",
      "[3.141, 1.412, 3.141592653589793]\n",
      "['a', 'b', 'c', 'd']\n",
      "['eka', 'toka', 'kolmas']\n",
      "[]\n",
      "The length of integer list is 5\n",
      "The length of empy list is 0\n"
     ]
    }
   ],
   "source": [
    "from numpy import pi\n",
    "\n",
    "list_of_integers=[1,2,3,4,5]\n",
    "print(list_of_integers)\n",
    "\n",
    "list_of_floats=[3.141, 1.412, pi]\n",
    "print(list_of_floats)\n",
    "\n",
    "list_of_characters=['a', 'b', 'c', 'd']\n",
    "print(list_of_characters)\n",
    "\n",
    "list_of_strings=['eka', 'toka', 'kolmas']\n",
    "print(list_of_strings)\n",
    "\n",
    "an_empty_list=[]\n",
    "print(an_empty_list)\n",
    "\n",
    "# Get the lenghts\n",
    "print(\"The length of integer list is\", len(list_of_integers))\n",
    "print(\"The length of empy list is\", len(an_empty_list))"
   ]
  },
  {
   "cell_type": "markdown",
   "metadata": {},
   "source": [
    "## Accessing values"
   ]
  },
  {
   "cell_type": "code",
   "execution_count": 11,
   "metadata": {},
   "outputs": [
    {
     "name": "stdout",
     "output_type": "stream",
     "text": [
      "The first integer is  1\n",
      "The second float is  1.412\n",
      "The last string  kolmas\n",
      "The second and third integers are  [2, 3]\n",
      "All integers, except the first one are [2, 3, 4, 5]\n",
      "All integers, except the last one are [1, 2, 3, 4]\n"
     ]
    }
   ],
   "source": [
    "print(\"The first integer is \", list_of_integers[0])\n",
    "print(\"The second float is \", list_of_floats[1])\n",
    "print(\"The last string \", list_of_strings[-1])\n",
    "\n",
    "# The lists can be also sliced\n",
    "print(\"The second and third integers are \", list_of_integers[1:3])\n",
    "print(\"All integers, except the first one are\", list_of_integers[1:])\n",
    "print(\"All integers, except the last one are\", list_of_integers[:-1])"
   ]
  },
  {
   "cell_type": "markdown",
   "metadata": {},
   "source": [
    "### The values in the list can be changed"
   ]
  },
  {
   "cell_type": "code",
   "execution_count": 18,
   "metadata": {
    "scrolled": true
   },
   "outputs": [
    {
     "name": "stdout",
     "output_type": "stream",
     "text": [
      "[1, 21, 99, 23, 5]\n",
      "[1, 21, 22, 23, 5]\n"
     ]
    }
   ],
   "source": [
    "list_of_integers[2]=99\n",
    "print(list_of_integers)\n",
    "\n",
    "list_of_integers[1:4]=[21,22,23]\n",
    "print(list_of_integers)"
   ]
  },
  {
   "cell_type": "markdown",
   "metadata": {},
   "source": [
    "The output of many functions can be interpreted as a list"
   ]
  },
  {
   "cell_type": "code",
   "execution_count": 21,
   "metadata": {},
   "outputs": [
    {
     "name": "stdout",
     "output_type": "stream",
     "text": [
      "[0, 1, 2, 3, 4, 5, 6, 7, 8, 9, 10, 11, 12, 13, 14]\n"
     ]
    }
   ],
   "source": [
    "x=list(range(15))\n",
    "print(x)"
   ]
  },
  {
   "cell_type": "markdown",
   "metadata": {},
   "source": [
    "### The values of the list can be iterated \n",
    "\n",
    "Each list is also an iterator. The following loop structure assigns each value in the list x, to variable i in turn. In the loop, the value is raised to the second power, and the result is printed."
   ]
  },
  {
   "cell_type": "code",
   "execution_count": 22,
   "metadata": {},
   "outputs": [
    {
     "name": "stdout",
     "output_type": "stream",
     "text": [
      "0\n",
      "1\n",
      "4\n",
      "9\n",
      "16\n",
      "25\n",
      "36\n",
      "49\n",
      "64\n",
      "81\n",
      "100\n",
      "121\n",
      "144\n",
      "169\n",
      "196\n"
     ]
    }
   ],
   "source": [
    "for i in x:\n",
    "    print(i**2)"
   ]
  },
  {
   "cell_type": "code",
   "execution_count": 24,
   "metadata": {},
   "outputs": [
    {
     "name": "stdout",
     "output_type": "stream",
     "text": [
      "9.865881\n",
      "1.9937439999999997\n",
      "9.869604401089358\n"
     ]
    }
   ],
   "source": [
    "# It also works for floats\n",
    "for i in list_of_floats:\n",
    "    print(i**2)"
   ]
  },
  {
   "cell_type": "code",
   "execution_count": 26,
   "metadata": {},
   "outputs": [
    {
     "name": "stdout",
     "output_type": "stream",
     "text": [
      "eka\n",
      "toka\n",
      "kolmas\n"
     ]
    }
   ],
   "source": [
    "# And for strings\n",
    "for i in list_of_strings:\n",
    "    print(i)"
   ]
  },
  {
   "cell_type": "code",
   "execution_count": 27,
   "metadata": {},
   "outputs": [
    {
     "ename": "TypeError",
     "evalue": "unsupported operand type(s) for ** or pow(): 'str' and 'int'",
     "output_type": "error",
     "traceback": [
      "\u001b[0;31m---------------------------------------------------------------------------\u001b[0m",
      "\u001b[0;31mTypeError\u001b[0m                                 Traceback (most recent call last)",
      "\u001b[0;32m<ipython-input-27-4c49bc61dd3a>\u001b[0m in \u001b[0;36m<module>\u001b[0;34m()\u001b[0m\n\u001b[1;32m      1\u001b[0m \u001b[0;31m# But you cannot raise a string to the power of 2\u001b[0m\u001b[0;34m\u001b[0m\u001b[0;34m\u001b[0m\u001b[0;34m\u001b[0m\u001b[0m\n\u001b[1;32m      2\u001b[0m \u001b[0;32mfor\u001b[0m \u001b[0mi\u001b[0m \u001b[0;32min\u001b[0m \u001b[0mlist_of_strings\u001b[0m\u001b[0;34m:\u001b[0m\u001b[0;34m\u001b[0m\u001b[0;34m\u001b[0m\u001b[0m\n\u001b[0;32m----> 3\u001b[0;31m     \u001b[0mprint\u001b[0m\u001b[0;34m(\u001b[0m\u001b[0mi\u001b[0m\u001b[0;34m**\u001b[0m\u001b[0;36m2\u001b[0m\u001b[0;34m)\u001b[0m\u001b[0;34m\u001b[0m\u001b[0;34m\u001b[0m\u001b[0m\n\u001b[0m",
      "\u001b[0;31mTypeError\u001b[0m: unsupported operand type(s) for ** or pow(): 'str' and 'int'"
     ]
    }
   ],
   "source": [
    "# But you cannot raise a string to the power of 2\n",
    "for i in list_of_strings:\n",
    "    print(i**2)"
   ]
  },
  {
   "cell_type": "code",
   "execution_count": 30,
   "metadata": {},
   "outputs": [
    {
     "name": "stdout",
     "output_type": "stream",
     "text": [
      "H\n",
      "e\n",
      "l\n",
      "l\n",
      "o\n",
      "!\n"
     ]
    }
   ],
   "source": [
    "# And a string is also a list\n",
    "s='Hello!'\n",
    "for i in s:\n",
    "    print(i)"
   ]
  },
  {
   "cell_type": "markdown",
   "metadata": {},
   "source": [
    "## Python Tuples\n",
    "\n",
    "Tuple is similar than list, except that it is immutable, its values cannot be changed. A tuple is created by listing the values in braces.\n",
    "\n",
    "Tuples are indexed exactly like lists."
   ]
  },
  {
   "cell_type": "code",
   "execution_count": 35,
   "metadata": {},
   "outputs": [
    {
     "name": "stdout",
     "output_type": "stream",
     "text": [
      "(1, 2, 3)\n",
      "('eka', 'toka', 'kolme')\n",
      "The second integer 2\n"
     ]
    },
    {
     "ename": "TypeError",
     "evalue": "'tuple' object does not support item assignment",
     "output_type": "error",
     "traceback": [
      "\u001b[0;31m---------------------------------------------------------------------------\u001b[0m",
      "\u001b[0;31mTypeError\u001b[0m                                 Traceback (most recent call last)",
      "\u001b[0;32m<ipython-input-35-aa931dcb10e9>\u001b[0m in \u001b[0;36m<module>\u001b[0;34m()\u001b[0m\n\u001b[1;32m      8\u001b[0m \u001b[0;34m\u001b[0m\u001b[0m\n\u001b[1;32m      9\u001b[0m \u001b[0;31m# Tuple cannot be changed\u001b[0m\u001b[0;34m\u001b[0m\u001b[0;34m\u001b[0m\u001b[0;34m\u001b[0m\u001b[0m\n\u001b[0;32m---> 10\u001b[0;31m \u001b[0mtuple_of_integers\u001b[0m\u001b[0;34m[\u001b[0m\u001b[0;36m1\u001b[0m\u001b[0;34m]\u001b[0m\u001b[0;34m=\u001b[0m\u001b[0;36m3\u001b[0m\u001b[0;34m\u001b[0m\u001b[0;34m\u001b[0m\u001b[0m\n\u001b[0m",
      "\u001b[0;31mTypeError\u001b[0m: 'tuple' object does not support item assignment"
     ]
    }
   ],
   "source": [
    "tuple_of_integers=(1,2,3)\n",
    "print(tuple_of_integers)\n",
    "\n",
    "tuple_of_strings=('eka', 'toka', 'kolme')\n",
    "print(tuple_of_strings)\n",
    "\n",
    "print(\"The second integer\", tuple_of_integers[1])\n",
    "\n",
    "# Tuple cannot be changed\n",
    "tuple_of_integers[1]=3"
   ]
  },
  {
   "cell_type": "markdown",
   "metadata": {},
   "source": [
    "## Multi-dimensional lists\n",
    "\n",
    "List can have more than one dimensions. The following multidimensional list, M, is actually a list which contains four sublists, which contain three items each.\n",
    "\n",
    "![](kuvat/matrix.png)"
   ]
  },
  {
   "cell_type": "code",
   "execution_count": 141,
   "metadata": {},
   "outputs": [
    {
     "name": "stdout",
     "output_type": "stream",
     "text": [
      "[[1, 2, 3], [4, 5, 6], [7, 8, 9], [10, 11, 12]]\n",
      "The second sublist is  [4, 5, 6]\n",
      "The first item of the second sublist is  4\n",
      "The dimensions of M are 4 x 3\n"
     ]
    }
   ],
   "source": [
    "M=[[1,2,3], [4,5,6], [7,8,9], [10,11,12]]\n",
    "print(M)\n",
    "\n",
    "print(\"The second sublist is \", M[1])\n",
    "print(\"The first item of the second sublist is \", M[1][0])\n",
    "\n",
    "# Get the dimensions\n",
    "nrows = len(M)\n",
    "ncols = len(M[0])\n",
    "\n",
    "print(\"The dimensions of M are %d %s %d\" % (nrows, 'x', ncols))\n"
   ]
  },
  {
   "cell_type": "markdown",
   "metadata": {},
   "source": [
    "## Dictionaries\n",
    "\n",
    "Sometimes it is convenient to index a list with something else than integers. In this case you can use dictionaries."
   ]
  },
  {
   "cell_type": "code",
   "execution_count": 142,
   "metadata": {},
   "outputs": [
    {
     "name": "stdout",
     "output_type": "stream",
     "text": [
      "toka in Finnish means second in English\n"
     ]
    },
    {
     "data": {
      "text/plain": [
       "{'eka': 'first', 'toka': 'second', 'kolmas': 'third'}"
      ]
     },
     "execution_count": 142,
     "metadata": {},
     "output_type": "execute_result"
    }
   ],
   "source": [
    "d={'eka' : 'first',\n",
    "     'toka': 'second',\n",
    "     'kolmas': 'third'}\n",
    "\n",
    "s='toka'\n",
    "print(\"%s in Finnish means %s in English\" % (s, d[s]))\n",
    "d"
   ]
  },
  {
   "cell_type": "markdown",
   "metadata": {},
   "source": [
    "## Numpy arrays (ndarray)\n",
    "\n",
    "Numpy is a shortcut of Numeric Python. Numpy is a library of data structures and functions for efficient numerical computing. Numpy library is programmed in C-language, and compiled to native binary, and therefore the functions in Numpy library are really efficient.\n",
    "\n",
    "Native python data structures are convenient, but Numpy arrays are much better in hanling large amount of data. The benefits of numpy arrays are:\n",
    " - They are used in all numpy libraries\n",
    " - They support easy vectorizatin of operations\n",
    " - They support very convenient indexing and slicing\n",
    " - They are much more efficient in terms of memory usage than python lists\n",
    " - They can be used directly in place of Python lists\n",
    " \n",
    " "
   ]
  },
  {
   "cell_type": "code",
   "execution_count": 56,
   "metadata": {},
   "outputs": [
    {
     "name": "stdout",
     "output_type": "stream",
     "text": [
      "[1 2 3]\n",
      "[3.141      1.412      3.14159265]\n",
      "['eka' 'toka' 'kolmas']\n"
     ]
    }
   ],
   "source": [
    "# Import first the Numeric Pyhthon library, and give it a nice shortcut, np\n",
    "import numpy as np\n",
    "\n",
    "# Then we can create Numpy arrays\n",
    "\n",
    "# 1) From python list\n",
    "x=np.array([1,2,3])\n",
    "y=np.array(list_of_floats)\n",
    "s=np.array(list_of_strings)\n",
    "\n",
    "print(x)\n",
    "print(y)\n",
    "print(s)"
   ]
  },
  {
   "cell_type": "markdown",
   "metadata": {},
   "source": [
    "They can be indexed just like lists or tuples"
   ]
  },
  {
   "cell_type": "code",
   "execution_count": 58,
   "metadata": {},
   "outputs": [
    {
     "data": {
      "text/plain": [
       "'eka'"
      ]
     },
     "execution_count": 58,
     "metadata": {},
     "output_type": "execute_result"
    }
   ],
   "source": [
    "s[0]"
   ]
  },
  {
   "cell_type": "code",
   "execution_count": 64,
   "metadata": {},
   "outputs": [
    {
     "name": "stdout",
     "output_type": "stream",
     "text": [
      "A= [[ 1  2  3]\n",
      " [ 4  5  6]\n",
      " [ 7  8  9]\n",
      " [10 11 12]]\n",
      "B= [[0. 0. 0. 0.]\n",
      " [0. 0. 0. 0.]\n",
      " [0. 0. 0. 0.]]\n"
     ]
    }
   ],
   "source": [
    "# Multidimensional list can be converted to Numpy array\n",
    "A=np.array(M)\n",
    "print(\"A=\", A)\n",
    "\n",
    "# We can create a multidimensional zero array using the\n",
    "# Numpy function zeros, and by giving the dimensions of\n",
    "# the array as tuple\n",
    "\n",
    "B=np.zeros((3,4))\n",
    "print(\"B=\", B)"
   ]
  },
  {
   "cell_type": "markdown",
   "metadata": {},
   "source": [
    "## Indexing Numpy arrays\n",
    "Numpy arrays support flexible indexing. \n",
    "![](kuvat/matrix.png)"
   ]
  },
  {
   "cell_type": "code",
   "execution_count": 122,
   "metadata": {},
   "outputs": [
    {
     "name": "stdout",
     "output_type": "stream",
     "text": [
      "The dimensions of A are  (4, 3)\n"
     ]
    },
    {
     "data": {
      "text/plain": [
       "(4, 3)"
      ]
     },
     "execution_count": 122,
     "metadata": {},
     "output_type": "execute_result"
    }
   ],
   "source": [
    "# Get the dimensions of the array\n",
    "nrows,ncols = A.shape\n",
    "print(\"The dimensions of A are \", (nrows, ncols))\n",
    "\n",
    "# The shape property of Numpy array is a tuple of integers\n",
    "A.shape"
   ]
  },
  {
   "cell_type": "code",
   "execution_count": 147,
   "metadata": {},
   "outputs": [
    {
     "data": {
      "text/plain": [
       "12"
      ]
     },
     "execution_count": 147,
     "metadata": {},
     "output_type": "execute_result"
    }
   ],
   "source": [
    "# Get a specific value\n",
    "row=3 # The fourth row\n",
    "col=2 # The third column\n",
    "\n",
    "# This works just like in MATLAB\n",
    "A[row,col]\n"
   ]
  },
  {
   "cell_type": "code",
   "execution_count": 70,
   "metadata": {},
   "outputs": [
    {
     "data": {
      "text/plain": [
       "array([1, 2, 3])"
      ]
     },
     "execution_count": 70,
     "metadata": {},
     "output_type": "execute_result"
    }
   ],
   "source": [
    "# Get the first row\n",
    "A[0]"
   ]
  },
  {
   "cell_type": "code",
   "execution_count": 78,
   "metadata": {},
   "outputs": [
    {
     "data": {
      "text/plain": [
       "array([ 1,  4,  7, 10])"
      ]
     },
     "execution_count": 78,
     "metadata": {},
     "output_type": "execute_result"
    }
   ],
   "source": [
    "# Get the first column, again just like in MATLAB\n",
    "A[:,0]"
   ]
  },
  {
   "cell_type": "code",
   "execution_count": 6,
   "metadata": {
    "ExecuteTime": {
     "end_time": "2021-10-06T10:24:07.480295Z",
     "start_time": "2021-10-06T10:24:07.475715Z"
    }
   },
   "outputs": [
    {
     "data": {
      "text/plain": [
       "249178538343859897602905502443311043993439555524386353334919645233978226164374923992664084240228232612531762046271219867904955214558573629332472984206557670667189362730123279184166580532455983805685592477224145886132226970683610096853152635030854871522599874400057925220369575731646992466829871299057657531920433486693162778218525983666154269364606901276372985321897170775515984390535656224834531099082447321597365396891406594511302843688865574199097101098949624120392314116694942946957629250352843442590129284541608525436456495833414399819834252104564736"
      ]
     },
     "execution_count": 6,
     "metadata": {},
     "output_type": "execute_result"
    }
   ],
   "source": [
    "import numpy as np\n",
    "234**234"
   ]
  },
  {
   "cell_type": "markdown",
   "metadata": {},
   "source": [
    "## Vectorization of operators"
   ]
  },
  {
   "cell_type": "code",
   "execution_count": 9,
   "metadata": {
    "ExecuteTime": {
     "end_time": "2021-10-06T10:25:06.887116Z",
     "start_time": "2021-10-06T10:24:57.499424Z"
    }
   },
   "outputs": [
    {
     "name": "stdout",
     "output_type": "stream",
     "text": [
      "CPU times: user 8.68 s, sys: 0 ns, total: 8.68 s\n",
      "Wall time: 8.69 s\n",
      "Sum of values is  4999999950000000\n"
     ]
    }
   ],
   "source": [
    "# It is rather slow to iterate through the values of large vector by python\n",
    "def sumofvalues(x):\n",
    "    total=0\n",
    "    for i in x:\n",
    "        total += i\n",
    "    return total\n",
    "\n",
    "# Lets create a numpy array whic is a list of N first numbers an calculate the sum\n",
    "v=np.arange(100000000)\n",
    "\n",
    "# Lets use a %time directive to let the computer to calculate the time needed \n",
    "# for the calcuation. In my computer it took about 300 ms\n",
    "%time sum=sumofvalues(v)\n",
    "print(\"Sum of values is \", sum)"
   ]
  },
  {
   "cell_type": "markdown",
   "metadata": {},
   "source": [
    "Now we do the same thing using the function from the numpy library. In this way it took only 5 ms in my computer, so it was 60 times faster"
   ]
  },
  {
   "cell_type": "code",
   "execution_count": 17,
   "metadata": {
    "ExecuteTime": {
     "end_time": "2021-10-06T10:26:22.115522Z",
     "start_time": "2021-10-06T10:26:21.985137Z"
    }
   },
   "outputs": [
    {
     "name": "stdout",
     "output_type": "stream",
     "text": [
      "CPU times: user 127 ms, sys: 0 ns, total: 127 ms\n",
      "Wall time: 126 ms\n"
     ]
    },
    {
     "data": {
      "text/plain": [
       "4999999950000000"
      ]
     },
     "execution_count": 17,
     "metadata": {},
     "output_type": "execute_result"
    }
   ],
   "source": [
    "%time np.sum(v)"
   ]
  },
  {
   "cell_type": "markdown",
   "metadata": {},
   "source": [
    "The array is actually an object, which has many build in functions, including `sum()`. You can get the sum using that function as well, this is exactly as fast as calling `np.sum()`"
   ]
  },
  {
   "cell_type": "code",
   "execution_count": 11,
   "metadata": {
    "ExecuteTime": {
     "end_time": "2021-10-06T10:26:12.223013Z",
     "start_time": "2021-10-06T10:26:12.091806Z"
    },
    "scrolled": true
   },
   "outputs": [
    {
     "name": "stdout",
     "output_type": "stream",
     "text": [
      "CPU times: user 126 ms, sys: 0 ns, total: 126 ms\n",
      "Wall time: 127 ms\n"
     ]
    },
    {
     "data": {
      "text/plain": [
       "4999999950000000"
      ]
     },
     "execution_count": 11,
     "metadata": {},
     "output_type": "execute_result"
    }
   ],
   "source": [
    "%time v.sum()"
   ]
  },
  {
   "cell_type": "markdown",
   "metadata": {},
   "source": [
    "By vectorizing the operators using build-in functions you can make the code siginificantly more efficient with fewer lines of code."
   ]
  },
  {
   "cell_type": "markdown",
   "metadata": {},
   "source": [
    "As another example, we can rise all the cells in an array to the power of two"
   ]
  },
  {
   "cell_type": "code",
   "execution_count": 98,
   "metadata": {},
   "outputs": [
    {
     "data": {
      "text/plain": [
       "array([[  1,   4,   9],\n",
       "       [ 16,  25,  36],\n",
       "       [ 49,  64,  81],\n",
       "       [100, 121, 144]])"
      ]
     },
     "execution_count": 98,
     "metadata": {},
     "output_type": "execute_result"
    }
   ],
   "source": [
    "A**2"
   ]
  },
  {
   "cell_type": "markdown",
   "metadata": {},
   "source": [
    "Because the result is also an array, we can chain the array operators like this:"
   ]
  },
  {
   "cell_type": "code",
   "execution_count": 155,
   "metadata": {},
   "outputs": [
    {
     "data": {
      "text/plain": [
       "650"
      ]
     },
     "execution_count": 155,
     "metadata": {},
     "output_type": "execute_result"
    }
   ],
   "source": [
    "(A**2).sum()"
   ]
  },
  {
   "cell_type": "code",
   "execution_count": 101,
   "metadata": {},
   "outputs": [
    {
     "data": {
      "text/plain": [
       "25.495097567963924"
      ]
     },
     "execution_count": 101,
     "metadata": {},
     "output_type": "execute_result"
    }
   ],
   "source": [
    "np.sqrt((A**2).sum())"
   ]
  },
  {
   "cell_type": "markdown",
   "metadata": {},
   "source": [
    "## Exercises\n",
    "\n",
    "1. Study what build in functions numpy-arrays include by reading the [documentation](https://numpy.org/doc/stable/reference/arrays.ndarray.html).\n",
    "1. Create a numpy array A, and then use interactive help function to study the documentation. Do this by writing A. (\"A\" and \".\"), in beginning of the line in the code cell, place the cursor immediately after the letters A., and press Shft-Tab. You can expand the documentation window by clicking the `^`-mark in the help window.\n",
    "1. Study the list of available properties and functions in numpy array A, by placing the cursor after \"A.\" and by pressing the Tab.\n",
    "\n",
    "![](kuvat/numpyArrayHelp.png)\n",
    "\n"
   ]
  },
  {
   "cell_type": "code",
   "execution_count": null,
   "metadata": {},
   "outputs": [],
   "source": [
    "A."
   ]
  },
  {
   "cell_type": "markdown",
   "metadata": {},
   "source": [
    "# Pandas"
   ]
  },
  {
   "cell_type": "markdown",
   "metadata": {},
   "source": [
    "Pandas is a Python data analysis library, which makes data reading, handling and plotting even more convenient.\n",
    "\n",
    "Lets just import the pandas librrary and give it a short name pd."
   ]
  },
  {
   "cell_type": "code",
   "execution_count": 96,
   "metadata": {},
   "outputs": [],
   "source": [
    "import pandas as pd"
   ]
  },
  {
   "cell_type": "markdown",
   "metadata": {},
   "source": [
    "In pandas, the data is stored in Data Frames (like in R) which are N-dimensional matrices, just like numpy arrays.\n",
    "\n",
    "We can now create a pandas data frame based on the existing numpy array."
   ]
  },
  {
   "cell_type": "code",
   "execution_count": 97,
   "metadata": {},
   "outputs": [
    {
     "data": {
      "text/html": [
       "<div>\n",
       "<style scoped>\n",
       "    .dataframe tbody tr th:only-of-type {\n",
       "        vertical-align: middle;\n",
       "    }\n",
       "\n",
       "    .dataframe tbody tr th {\n",
       "        vertical-align: top;\n",
       "    }\n",
       "\n",
       "    .dataframe thead th {\n",
       "        text-align: right;\n",
       "    }\n",
       "</style>\n",
       "<table border=\"1\" class=\"dataframe\">\n",
       "  <thead>\n",
       "    <tr style=\"text-align: right;\">\n",
       "      <th></th>\n",
       "      <th>0</th>\n",
       "      <th>1</th>\n",
       "      <th>2</th>\n",
       "    </tr>\n",
       "  </thead>\n",
       "  <tbody>\n",
       "    <tr>\n",
       "      <th>0</th>\n",
       "      <td>1</td>\n",
       "      <td>2</td>\n",
       "      <td>3</td>\n",
       "    </tr>\n",
       "    <tr>\n",
       "      <th>1</th>\n",
       "      <td>4</td>\n",
       "      <td>5</td>\n",
       "      <td>6</td>\n",
       "    </tr>\n",
       "    <tr>\n",
       "      <th>2</th>\n",
       "      <td>7</td>\n",
       "      <td>8</td>\n",
       "      <td>9</td>\n",
       "    </tr>\n",
       "    <tr>\n",
       "      <th>3</th>\n",
       "      <td>10</td>\n",
       "      <td>11</td>\n",
       "      <td>12</td>\n",
       "    </tr>\n",
       "  </tbody>\n",
       "</table>\n",
       "</div>"
      ],
      "text/plain": [
       "    0   1   2\n",
       "0   1   2   3\n",
       "1   4   5   6\n",
       "2   7   8   9\n",
       "3  10  11  12"
      ]
     },
     "execution_count": 97,
     "metadata": {},
     "output_type": "execute_result"
    }
   ],
   "source": [
    "pd.DataFrame(data=A)"
   ]
  },
  {
   "cell_type": "markdown",
   "metadata": {},
   "source": [
    "As can be seen, pandas can plot the data in a pretty format automatically in a notebook.\n",
    "\n",
    "The dataframe can have symbolic column and row names:"
   ]
  },
  {
   "cell_type": "code",
   "execution_count": 107,
   "metadata": {
    "scrolled": true
   },
   "outputs": [
    {
     "data": {
      "text/html": [
       "<div>\n",
       "<style scoped>\n",
       "    .dataframe tbody tr th:only-of-type {\n",
       "        vertical-align: middle;\n",
       "    }\n",
       "\n",
       "    .dataframe tbody tr th {\n",
       "        vertical-align: top;\n",
       "    }\n",
       "\n",
       "    .dataframe thead th {\n",
       "        text-align: right;\n",
       "    }\n",
       "</style>\n",
       "<table border=\"1\" class=\"dataframe\">\n",
       "  <thead>\n",
       "    <tr style=\"text-align: right;\">\n",
       "      <th></th>\n",
       "      <th>a</th>\n",
       "      <th>b</th>\n",
       "      <th>c</th>\n",
       "    </tr>\n",
       "  </thead>\n",
       "  <tbody>\n",
       "    <tr>\n",
       "      <th>Mon</th>\n",
       "      <td>1</td>\n",
       "      <td>2</td>\n",
       "      <td>3</td>\n",
       "    </tr>\n",
       "    <tr>\n",
       "      <th>Tue</th>\n",
       "      <td>4</td>\n",
       "      <td>5</td>\n",
       "      <td>6</td>\n",
       "    </tr>\n",
       "    <tr>\n",
       "      <th>Wed</th>\n",
       "      <td>7</td>\n",
       "      <td>8</td>\n",
       "      <td>9</td>\n",
       "    </tr>\n",
       "    <tr>\n",
       "      <th>Fri</th>\n",
       "      <td>10</td>\n",
       "      <td>11</td>\n",
       "      <td>12</td>\n",
       "    </tr>\n",
       "  </tbody>\n",
       "</table>\n",
       "</div>"
      ],
      "text/plain": [
       "      a   b   c\n",
       "Mon   1   2   3\n",
       "Tue   4   5   6\n",
       "Wed   7   8   9\n",
       "Fri  10  11  12"
      ]
     },
     "execution_count": 107,
     "metadata": {},
     "output_type": "execute_result"
    }
   ],
   "source": [
    "D=pd.DataFrame(data=A, columns=('a', 'b', 'c'), \n",
    "               index=('Mon','Tue', 'Wed', 'Fri'))\n",
    "D"
   ]
  },
  {
   "cell_type": "markdown",
   "metadata": {},
   "source": [
    "Dataframe can be indexed by either symbolic names (loc) or numerical indices (iloc)."
   ]
  },
  {
   "cell_type": "code",
   "execution_count": 110,
   "metadata": {},
   "outputs": [
    {
     "data": {
      "text/plain": [
       "6"
      ]
     },
     "execution_count": 110,
     "metadata": {},
     "output_type": "execute_result"
    }
   ],
   "source": [
    "D.iloc[1,2]"
   ]
  },
  {
   "cell_type": "code",
   "execution_count": 111,
   "metadata": {},
   "outputs": [
    {
     "data": {
      "text/plain": [
       "5"
      ]
     },
     "execution_count": 111,
     "metadata": {},
     "output_type": "execute_result"
    }
   ],
   "source": [
    "D.loc['Tue', 'b']"
   ]
  },
  {
   "cell_type": "markdown",
   "metadata": {},
   "source": [
    "Pandas Dataframe has also a large number build in functions which usually operate columnwise by default, but can be changed to operate row-wise using axis-parameter"
   ]
  },
  {
   "cell_type": "code",
   "execution_count": 112,
   "metadata": {},
   "outputs": [
    {
     "data": {
      "text/plain": [
       "a    22\n",
       "b    26\n",
       "c    30\n",
       "dtype: int64"
      ]
     },
     "execution_count": 112,
     "metadata": {},
     "output_type": "execute_result"
    }
   ],
   "source": [
    "D.sum"
   ]
  },
  {
   "cell_type": "code",
   "execution_count": 113,
   "metadata": {},
   "outputs": [
    {
     "data": {
      "text/plain": [
       "Mon     6\n",
       "Tue    15\n",
       "Wed    24\n",
       "Fri    33\n",
       "dtype: int64"
      ]
     },
     "execution_count": 113,
     "metadata": {},
     "output_type": "execute_result"
    }
   ],
   "source": [
    "D.sum(axis=1)"
   ]
  },
  {
   "cell_type": "markdown",
   "metadata": {},
   "source": [
    "### Excercise on pandas\n",
    "\n",
    "1. Study the on-line documentation of DataFrame by entering `D.` and pressing Shift-Tab after the dot.\n",
    "1. Study the on-line documentation of the sum() function of the DataFrame by writing `D.sum` and pressing Shift-Tab after that.\n",
    "1. Calculate the average of the dataframe columnwise and row-wise.\n",
    "1. Calculate the sum of all values in a dataframe. Notice that the result of the columnwise sum is also a dataframe."
   ]
  },
  {
   "cell_type": "markdown",
   "metadata": {},
   "source": [
    "# Object oriented programming\n",
    "\n",
    "All data structures listed above are objects. It means that they do not store only data, but they also contains methods (member functions) and attributes (member variables) which can be accessed using dot notation. \n",
    "\n",
    "Object oriented programming is actually [more](https://www.tutorialspoint.com/What-is-object-oriented-programming-OOP) than that, but this is minimal what you need to know now. \n",
    "\n",
    "![](kuvat/ooprogramming.svg)"
   ]
  },
  {
   "cell_type": "code",
   "execution_count": 131,
   "metadata": {},
   "outputs": [
    {
     "data": {
      "text/plain": [
       "array([[ 1,  2,  3],\n",
       "       [ 4,  5,  6],\n",
       "       [ 7,  8,  9],\n",
       "       [10, 11, 12]])"
      ]
     },
     "execution_count": 131,
     "metadata": {},
     "output_type": "execute_result"
    }
   ],
   "source": [
    "# This way you can access the numpy array inside data frame\n",
    "D.values"
   ]
  },
  {
   "cell_type": "code",
   "execution_count": 136,
   "metadata": {},
   "outputs": [
    {
     "name": "stdout",
     "output_type": "stream",
     "text": [
      "<class 'pandas.core.frame.DataFrame'>\n",
      "<class 'numpy.ndarray'>\n"
     ]
    }
   ],
   "source": [
    "# You can ask the type of and object with type() -function\n",
    "print(type(D))\n",
    "print(type(D.values))"
   ]
  },
  {
   "cell_type": "code",
   "execution_count": 133,
   "metadata": {},
   "outputs": [
    {
     "data": {
      "text/plain": [
       "(4, 3)"
      ]
     },
     "execution_count": 133,
     "metadata": {},
     "output_type": "execute_result"
    }
   ],
   "source": [
    "# Read the shape property of the numpy array part inside data frame\n",
    "D.values.shape"
   ]
  },
  {
   "cell_type": "markdown",
   "metadata": {},
   "source": [
    "## Make your own object\n",
    "\n",
    "Make an object which stores a numerical data vector (a numpy array) and implements some functions according to the following template: \n",
    "\n",
    "![Numericaldata](NumericalData.svg)"
   ]
  },
  {
   "cell_type": "code",
   "execution_count": 9,
   "metadata": {
    "ExecuteTime": {
     "end_time": "2021-11-01T09:35:10.772383Z",
     "start_time": "2021-11-01T09:35:10.763138Z"
    }
   },
   "outputs": [
    {
     "name": "stdout",
     "output_type": "stream",
     "text": [
      "RMS of values [1 5 3 4] is  3.570714214271425\n"
     ]
    }
   ],
   "source": [
    "import numpy as np\n",
    "\n",
    "class Numericaldata:\n",
    "    \n",
    "    values=np.array([])\n",
    "    \n",
    "    def __init__(self, values=np.array([])):\n",
    "        self.values=values\n",
    "        \n",
    "    def rms(self):\n",
    "        return np.sqrt(np.mean(np.square(self.values)))\n",
    "    \n",
    "nd=Numericaldata(np.array((1,5,3,4)))\n",
    "\n",
    "print(\"RMS of values\", nd.values, \"is \", nd.rms())"
   ]
  },
  {
   "cell_type": "code",
   "execution_count": null,
   "metadata": {},
   "outputs": [],
   "source": []
  }
 ],
 "metadata": {
  "kernelspec": {
   "display_name": "Python 3 (ipykernel)",
   "language": "python",
   "name": "python3"
  },
  "language_info": {
   "codemirror_mode": {
    "name": "ipython",
    "version": 3
   },
   "file_extension": ".py",
   "mimetype": "text/x-python",
   "name": "python",
   "nbconvert_exporter": "python",
   "pygments_lexer": "ipython3",
   "version": "3.9.2"
  },
  "toc": {
   "base_numbering": 1,
   "nav_menu": {},
   "number_sections": true,
   "sideBar": true,
   "skip_h1_title": false,
   "title_cell": "Table of Contents",
   "title_sidebar": "Contents",
   "toc_cell": false,
   "toc_position": {},
   "toc_section_display": true,
   "toc_window_display": false
  }
 },
 "nbformat": 4,
 "nbformat_minor": 4
}
