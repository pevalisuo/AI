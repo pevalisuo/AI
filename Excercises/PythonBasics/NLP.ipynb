{
 "cells": [
  {
   "cell_type": "markdown",
   "id": "e7006875",
   "metadata": {},
   "source": [
    "# Natural Language Processing\n",
    "\n",
    "Natural Language Processing (NLP) is an important part of Machine Learning. In Python there is a good library called as Natural Language Toolkit (NLTK), which can be used as follows\n",
    "\n",
    "Install it first with PIP/Conda\n",
    "\n",
    "`python -m pip install nltk\n",
    "conda install nltk`\n",
    "\n",
    "Then download some additional components of nltk and sample data (*corpus*). You can even download them all, since they do not require huge amount of disk space\n",
    "\n",
    "Start IPython and write in the command prompt\n",
    "\n",
    "`import nltk\n",
    "nltk download`\n",
    "\n",
    "While installation is ready, we will continue from\n",
    "\n",
    "[Natural Language Processing With Python's NLTK Package](https://realpython.com/nltk-nlp-python/)"
   ]
  },
  {
   "cell_type": "code",
   "execution_count": 1,
   "id": "d9c65da4",
   "metadata": {
    "ExecuteTime": {
     "end_time": "2021-11-01T10:12:03.651729Z",
     "start_time": "2021-11-01T10:12:03.609348Z"
    }
   },
   "outputs": [],
   "source": [
    "\n",
    "%qtconsole\n",
    "\n"
   ]
  },
  {
   "cell_type": "code",
   "execution_count": null,
   "id": "d085406a",
   "metadata": {},
   "outputs": [],
   "source": []
  }
 ],
 "metadata": {
  "kernelspec": {
   "display_name": "Python 3 (ipykernel)",
   "language": "python",
   "name": "python3"
  },
  "language_info": {
   "codemirror_mode": {
    "name": "ipython",
    "version": 3
   },
   "file_extension": ".py",
   "mimetype": "text/x-python",
   "name": "python",
   "nbconvert_exporter": "python",
   "pygments_lexer": "ipython3",
   "version": "3.9.2"
  },
  "toc": {
   "base_numbering": 1,
   "nav_menu": {},
   "number_sections": true,
   "sideBar": true,
   "skip_h1_title": false,
   "title_cell": "Table of Contents",
   "title_sidebar": "Contents",
   "toc_cell": false,
   "toc_position": {},
   "toc_section_display": true,
   "toc_window_display": false
  }
 },
 "nbformat": 4,
 "nbformat_minor": 5
}
