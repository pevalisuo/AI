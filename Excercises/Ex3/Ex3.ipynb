{
 "cells": [
  {
   "cell_type": "markdown",
   "metadata": {},
   "source": [
    "# Artificial Intelligence: Concepts, Challenges, and Opportunities (2021), exercises\n",
    "\n",
    "\n",
    "## Material for Quiz T10\n",
    "\n",
    "Start from the beginning of the notebook and execute each code cell by first activating it and then pressing `Shift-Enter` keys at the same time. The focus automatically moves to the next cell and you may \"execute\" that cell by pressing `Shift-Enter` again, until you have reached a cell which contains a tag:\n",
    "\n",
    "> YOUR CODE HERE\n",
    "\n",
    "Follow the instructions and fill in your solution under the line marked by tag.\n",
    "\n",
    "Having written the answer, execute the code cell by and pressing `Shift-Enter` key combination. The code is run, and it may print some information under the code cell. Then execute in a similar way a cell below the input cell, which tests your solution. Execute that and follow the feedback. Usually it either says that the solution seems acceptable, or reports some errors. You can go back to your solution, modify it and repeat everything until you are satisfied. Then proceed to the next task.\n",
    "   \n",
    "Repeat the process for all tasks.\n",
    "\n",
    "When you are finished working with the notebook, download the whole notebook by using menu `File -> Download`. Save the file in your hard disk in case you need it later, because everything in the binder will be destroyed when the server expires.\n",
    "\n",
    "When you are finished working with the notebook, you should be ready to answer to the questions in the Quizz.\n",
    "\n"
   ]
  },
  {
   "cell_type": "markdown",
   "metadata": {},
   "source": [
    "---"
   ]
  },
  {
   "cell_type": "markdown",
   "metadata": {},
   "source": [
    "# Probabilisic reasoning and machine learning\n"
   ]
  },
  {
   "cell_type": "code",
   "execution_count": null,
   "metadata": {
    "ExecuteTime": {
     "end_time": "2021-11-05T16:25:50.868891Z",
     "start_time": "2021-11-05T16:25:46.871665Z"
    }
   },
   "outputs": [],
   "source": [
    "import numpy as np\n",
    "import matplotlib.pyplot as plt\n",
    "import seaborn as sns\n",
    "sns.set()\n"
   ]
  },
  {
   "cell_type": "markdown",
   "metadata": {},
   "source": [
    "## Task 1, Probabilistic reasoning.\n",
    "\n",
    "Hundred apples and hundred onions have been accidentally mixed in the grocery store. A shopkeeper developed a robot which can separate onions from apples by simply measuring their weights, since onions are usually lighter than apples. But not always. The following figure shows the weight distribution of apples and onions. "
   ]
  },
  {
   "cell_type": "code",
   "execution_count": null,
   "metadata": {
    "ExecuteTime": {
     "end_time": "2021-11-05T16:26:22.631633Z",
     "start_time": "2021-11-05T16:26:21.302036Z"
    }
   },
   "outputs": [],
   "source": [
    "from numpy import mean , linspace\n",
    "import pomegranate as pg\n",
    "\n",
    "onions=pg.NormalDistribution(110,25)\n",
    "apples=pg.NormalDistribution(170,28)\n",
    "\n",
    "# Combined, all students\n",
    "combined = pg.GeneralMixtureModel([apples, onions])\n",
    "\n",
    "i=linspace(0,250)\n",
    "plt.plot(i,onions.probability(i), label='Onions')\n",
    "plt.plot(i,apples.probability(i), label='Apples')\n",
    "plt.plot(i,combined.probability(i), label='Combined')\n",
    "plt.xlabel('Weight')\n",
    "plt.title('Weight of Onions and Apples')\n",
    "plt.legend()"
   ]
  },
  {
   "cell_type": "markdown",
   "metadata": {},
   "source": [
    "The separation of apples from onions can be implemented using Bayesian classifier. Use the Bayes rule with the help of the pomegranate tools to find out what is the probability that an item is an onion if it weights 125 g ?\n",
    "\n",
    "- You can make exact calculations using the Pomegranate distribution objects. In this case, make sure that the final calculation is on the last line of the cell, so that it will be the output value of the cell.\n",
    "- You can make some tests of your answer by examining if the assert on the next cell is passed"
   ]
  },
  {
   "cell_type": "code",
   "execution_count": null,
   "metadata": {
    "ExecuteTime": {
     "end_time": "2021-11-05T16:21:35.982622Z",
     "start_time": "2021-11-05T16:21:35.959770Z"
    },
    "nbgrader": {
     "cell_type": "code",
     "checksum": "cd91c6d2de95e85ceccee0fc44b2211a",
     "grade": false,
     "grade_id": "cell-b661074d6b5a17e9",
     "locked": false,
     "schema_version": 3,
     "solution": true,
     "task": false
    }
   },
   "outputs": [],
   "source": [
    "# YOUR CODE HERE\n",
    "raise NotImplementedError()"
   ]
  },
  {
   "cell_type": "code",
   "execution_count": null,
   "metadata": {
    "ExecuteTime": {
     "end_time": "2021-11-05T16:21:37.386005Z",
     "start_time": "2021-11-05T16:21:37.365962Z"
    },
    "nbgrader": {
     "cell_type": "code",
     "checksum": "33328214bb041b4df08b6a1036b979e3",
     "grade": true,
     "grade_id": "cell-4006ae7503c7e866",
     "locked": true,
     "points": 2,
     "schema_version": 3,
     "solution": false,
     "task": false
    }
   },
   "outputs": [],
   "source": [
    "ans = _\n",
    "print(\"Your answer is %f\" % (ans))\n",
    "if (ans<=0) or (ans>=1):\n",
    "    print(\"Warning! The probability must be between 0 and 1!\" )\n",
    "assert((ans>0) and (ans<1)), \"%d is not in acceptable range\" % (ans)\n"
   ]
  },
  {
   "cell_type": "code",
   "execution_count": null,
   "metadata": {
    "deletable": false,
    "nbgrader": {
     "cell_type": "code",
     "checksum": "d7b5ed4c1e0be14df2057960f9375147",
     "grade": false,
     "grade_id": "cell-9011bedc7c97e1ea",
     "locked": false,
     "schema_version": 3,
     "solution": true,
     "task": false
    }
   },
   "outputs": [],
   "source": []
  }
 ],
 "metadata": {
  "kernelspec": {
   "display_name": "Python 3 (ipykernel)",
   "language": "python",
   "name": "python3"
  },
  "language_info": {
   "codemirror_mode": {
    "name": "ipython",
    "version": 3
   },
   "file_extension": ".py",
   "mimetype": "text/x-python",
   "name": "python",
   "nbconvert_exporter": "python",
   "pygments_lexer": "ipython3",
   "version": "3.9.2"
  },
  "toc": {
   "base_numbering": 1,
   "nav_menu": {},
   "number_sections": true,
   "sideBar": true,
   "skip_h1_title": false,
   "title_cell": "Table of Contents",
   "title_sidebar": "Contents",
   "toc_cell": false,
   "toc_position": {},
   "toc_section_display": true,
   "toc_window_display": false
  }
 },
 "nbformat": 4,
 "nbformat_minor": 4
}
