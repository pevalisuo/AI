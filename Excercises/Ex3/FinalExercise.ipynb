{
 "cells": [
  {
   "cell_type": "markdown",
   "metadata": {},
   "source": [
    "# Artificial Intelligence: Concepts, Challenges, and Opportunities (2020), exercises\n",
    "\n",
    "\n",
    "## General instructions for all exercises\n",
    "\n",
    "Before you turn this problem in, make sure everything runs as expected. First, **restart the kernel** (in the menubar, select Kernel$\\rightarrow$Restart) and then **run all cells** (in the menubar, select Cell$\\rightarrow$Run All).\n",
    "\n",
    "Follow the instructions and fill in your solution under the line marked by tag\n",
    "\n",
    "> YOUR CODE HERE\n",
    "  \n",
    "Having written the answer, execute the code cell by and pressing `Shift-Enter` key combination. The code is run, and it may print some information under the code cell. The focus automatically moves to the next cell and you may \"execute\" that cell by pressing `Shift-Enter` again, until you have reached the code cell which tests your solution. Execute that and follow the feedback. Usually it either says that the solution seems acceptable, or reports some errors. You can go back to your solution, modify it and repeat everything until you are satisfied. Then proceed to the next task.\n",
    "   \n",
    "Repeat the process for all tasks.\n",
    "\n",
    "The notebook may also contain manually graded answers. Write your manualle graded answer under the line marked by tag:\n",
    "\n",
    "> YOUR ANSWER HERE\n",
    "\n",
    "Manually graded tasks may be text, pseudocode, or mathematical formulas. You can write formulas with $\\LaTeX$-syntax by enclosing the formula with dollar signs (`$`), for example `$f(x)=2 \\pi / \\alpha$`, will produce $f(x)=2 \\pi / \\alpha$\n",
    "\n",
    "When you have passed the tests in the notebook, and you are ready to submit your solutions, download the whole notebook, using menu `File -> Download as -> Notebook (.ipynb)`. Save the file in your hard disk, and submit it in [Moodle](https://moodle.uwasa.fi) under the corresponding excercise.\n",
    "\n",
    "Your solution should be an executable Python code. Use the code already existing as an example of Python programing and read more from the numerous Python programming material from the Internet if necessary. \n"
   ]
  },
  {
   "cell_type": "code",
   "execution_count": null,
   "metadata": {},
   "outputs": [],
   "source": [
    "NAME = \"\"\n",
    "Student_number = \"\""
   ]
  },
  {
   "cell_type": "markdown",
   "metadata": {},
   "source": [
    "---"
   ]
  },
  {
   "cell_type": "markdown",
   "metadata": {},
   "source": [
    "# Probabilisic reasoning and machine learning\n"
   ]
  },
  {
   "cell_type": "code",
   "execution_count": null,
   "metadata": {},
   "outputs": [],
   "source": [
    "import numpy as np\n",
    "import matplotlib.pyplot as plt\n",
    "import seaborn as sns\n",
    "sns.set()\n"
   ]
  },
  {
   "cell_type": "markdown",
   "metadata": {},
   "source": [
    "## Task 1: Graph search \n",
    "\n",
    "Search the shortest path on the graph below from node 0 to node 6, when the weights of each edge is 1. You may use the `nx.astar_path()`-function or solve it manually. (Notice that if no heuristic function is given, then the search is actually using Djikstras shortest path algorihm, which finds the same path, but slower.)\n",
    "\n",
    "Hint: If the graph below looks messy, evaluate the next cell again (by pressing Shft-Enter) and the graph is redrawn. It will look different, but it has still the same topology. Repet until you can see the graph correctly."
   ]
  },
  {
   "cell_type": "code",
   "execution_count": null,
   "metadata": {},
   "outputs": [],
   "source": [
    "import networkx as nx\n",
    "\n",
    "#rg=nx.random_tree(n=15, seed=1)\n",
    "rg=nx.random_geometric_graph(n=15, radius=0.5, seed=1)\n",
    "nx.draw(rg, with_labels=True, font_weight='normal', node_color='orange', node_size=500)\n"
   ]
  },
  {
   "cell_type": "code",
   "execution_count": null,
   "metadata": {
    "deletable": false,
    "nbgrader": {
     "cell_type": "code",
     "checksum": "eeffe1341671fe67cf0a4288547f851c",
     "grade": false,
     "grade_id": "cell-ab562554bfab6811",
     "locked": false,
     "schema_version": 3,
     "solution": true,
     "task": false
    }
   },
   "outputs": [],
   "source": [
    "path=[0,]\n",
    "\n",
    "# YOUR CODE HERE\n",
    "raise NotImplementedError()"
   ]
  },
  {
   "cell_type": "code",
   "execution_count": null,
   "metadata": {
    "deletable": false,
    "editable": false,
    "nbgrader": {
     "cell_type": "code",
     "checksum": "d7e6fd727c91f4ab4d8aff543d7be945",
     "grade": true,
     "grade_id": "cell-78aad8c0b7d76fed",
     "locked": true,
     "points": 2,
     "schema_version": 3,
     "solution": false,
     "task": false
    }
   },
   "outputs": [],
   "source": [
    "if len(path)<2:\n",
    "    print(\"Please assign your path as Python list called path, eg path=[1,2,3,4,5,6]\")\n",
    "    "
   ]
  },
  {
   "cell_type": "markdown",
   "metadata": {},
   "source": [
    "## Task 2, Probabilistic reasoning.\n",
    "\n",
    "The apples and onions have been accidentally mixed in the grocery store. A shopkeeper developed a robot which can separate onions from apples by simply measuring their weights, since onions are usually lighter than apples. But not always. The following figure shows the weight distribution of apples and onions. "
   ]
  },
  {
   "cell_type": "markdown",
   "metadata": {},
   "source": [
    "Run the following cell first once to install pomegranate library. It will take a minute to run. Then you can continue as normal"
   ]
  },
  {
   "cell_type": "code",
   "execution_count": null,
   "metadata": {},
   "outputs": [],
   "source": [
    "conda install pomegranate"
   ]
  },
  {
   "cell_type": "code",
   "execution_count": null,
   "metadata": {},
   "outputs": [],
   "source": [
    "from numpy import mean , linspace\n",
    "import pomegranate as pg\n",
    "\n",
    "onions=pg.NormalDistribution(110,30)\n",
    "apples=pg.NormalDistribution(170,25)\n",
    "\n",
    "# Combined, all students\n",
    "combined = pg.GeneralMixtureModel([apples, onions])\n",
    "\n",
    "i=linspace(0,250)\n",
    "plt.plot(i,onions.probability(i), label='Onions')\n",
    "plt.plot(i,apples.probability(i), label='Apples')\n",
    "plt.plot(i,combined.probability(i), label='Combined')\n",
    "plt.xlabel('Weithg')\n",
    "plt.title('Weight of Onions and Apples')\n",
    "plt.legend()"
   ]
  },
  {
   "cell_type": "markdown",
   "metadata": {},
   "source": [
    "The separation of apples from onions can be implemented using Bayesian classifier. Use the Bayes rule to find out what is the probability that an item weighting 150 g is an apple? \n",
    "\n",
    "- You can make exact calculations using the Pomegranate distribution objects. In this case, make sure that the final calculation is on the last line of the cell, so that it will be the output value of the cell.\n",
    "- Or you can just look the approximate values from the picture and write just the correct value in the following cell.\n",
    "- Either way, the value should be a propability between 0 and 1\n",
    "- Please make sure the assert on the next cell is passed"
   ]
  },
  {
   "cell_type": "code",
   "execution_count": null,
   "metadata": {
    "deletable": false,
    "nbgrader": {
     "cell_type": "code",
     "checksum": "cd91c6d2de95e85ceccee0fc44b2211a",
     "grade": false,
     "grade_id": "cell-b661074d6b5a17e9",
     "locked": false,
     "schema_version": 3,
     "solution": true,
     "task": false
    }
   },
   "outputs": [],
   "source": [
    "# YOUR CODE HERE\n",
    "raise NotImplementedError()"
   ]
  },
  {
   "cell_type": "code",
   "execution_count": null,
   "metadata": {
    "deletable": false,
    "editable": false,
    "nbgrader": {
     "cell_type": "code",
     "checksum": "33328214bb041b4df08b6a1036b979e3",
     "grade": true,
     "grade_id": "cell-4006ae7503c7e866",
     "locked": true,
     "points": 2,
     "schema_version": 3,
     "solution": false,
     "task": false
    }
   },
   "outputs": [],
   "source": [
    "ans = _\n",
    "print(\"Your answer is %f\" % (ans))\n",
    "if (ans<=0) or (ans>=1):\n",
    "    print(\"Warning! The probability must be between 0 and 1!\" )\n",
    "assert((ans>0) and (ans<1)), \"%d is not in acceptable range\" % (ans)\n"
   ]
  },
  {
   "cell_type": "markdown",
   "metadata": {},
   "source": [
    "## Task 3: Regression\n",
    "\n",
    "The following code cell loads a one dimensional data set and makes a scatter plot of it. \n",
    "\n",
    "\n",
    "### 3 a)\n",
    "\n",
    "Fit the regression model \n",
    "\n",
    "$$\n",
    "    y = \\beta_0 + \\beta_1 x\n",
    "$$\n",
    "\n",
    "to the data, by optimising coefficients $\\beta_0$ and $\\beta_1$ with the interactive tool below, so that prediction error $\\Sigma(y-\\hat{y})^2$ is minimized. R$^2$-score should be better than 0.6. "
   ]
  },
  {
   "cell_type": "code",
   "execution_count": null,
   "metadata": {},
   "outputs": [],
   "source": [
    "import ipywidgets as widgets\n",
    "from IPython.display import display\n",
    "from ipywidgets import interact, interactive, fixed, interact_manual\n",
    "import pandas as pd\n",
    "\n",
    "b0, b1 = (0,1)\n",
    "\n",
    "D=pd.read_csv('regressiondata.csv')\n",
    "x=np.array(D.iloc[:,0:1])\n",
    "y=np.array(D.iloc[:,1:2])\n",
    "\n",
    "@interact(b1w=widgets.FloatSlider(value=0.1, min=0, max=4, step=0.1, description=r'$\\beta_1$'), \n",
    "          b0w=widgets.FloatSlider(value=0.1, min=-2, max=3, step=0.1, description=r'$\\beta_0$'))\n",
    "def fit(b1w,b0w):\n",
    "    global x, ax, b0, b1\n",
    "    fig,ax=plt.subplots(figsize=(5,5))\n",
    "    ax.plot(x, b1w*x+b0w, c='b')\n",
    "    ax.scatter(x,y, c='r')\n",
    "    (b0, b1) = (b0w, b1w)"
   ]
  },
  {
   "cell_type": "code",
   "execution_count": null,
   "metadata": {
    "deletable": false,
    "nbgrader": {
     "cell_type": "code",
     "checksum": "85261531c2e374b19cce0e4b72a3cc30",
     "grade": false,
     "grade_id": "cell-c77b553acce03d00",
     "locked": false,
     "schema_version": 3,
     "solution": true,
     "task": false
    }
   },
   "outputs": [],
   "source": [
    "# You do not need to write anything here, just remove the Not Implemented Here line\n",
    "print(\"y = %3.2f + %3.2f * x\" % (b0,b1))\n",
    "# YOUR CODE HERE\n",
    "raise NotImplementedError()"
   ]
  },
  {
   "cell_type": "code",
   "execution_count": null,
   "metadata": {
    "deletable": false,
    "editable": false,
    "nbgrader": {
     "cell_type": "code",
     "checksum": "84c081bd07ea184262e959b886e05221",
     "grade": true,
     "grade_id": "cell-883eb66f8388d65b",
     "locked": true,
     "points": 2,
     "schema_version": 3,
     "solution": false,
     "task": false
    }
   },
   "outputs": [],
   "source": [
    "if (b0<-1.5) or (b0>4):\n",
    "    print(\"The intercept of the regression curve is out of range\")\n",
    "if (b1<0.1) or (b1>3):\n",
    "    print(\"The slope of the regression curve is out of range\")\n",
    "    \n"
   ]
  },
  {
   "cell_type": "markdown",
   "metadata": {},
   "source": [
    "### 3b)\n",
    "\n",
    "Repeat the same task using LinearRegression object from Scikit Learn library. Tip: Use `fit_intercep=True` -parameter for LinearRegression object. Name your linear regerssor object as predictor."
   ]
  },
  {
   "cell_type": "code",
   "execution_count": null,
   "metadata": {
    "deletable": false,
    "nbgrader": {
     "cell_type": "code",
     "checksum": "161cbe40c9573388e158b52b989b0872",
     "grade": false,
     "grade_id": "cell-bb8913171b8c1ff3",
     "locked": false,
     "schema_version": 3,
     "solution": true,
     "task": false
    }
   },
   "outputs": [],
   "source": [
    "from sklearn.linear_model import LinearRegression\n",
    "# YOUR CODE HERE\n",
    "raise NotImplementedError()"
   ]
  },
  {
   "cell_type": "code",
   "execution_count": null,
   "metadata": {
    "deletable": false,
    "editable": false,
    "nbgrader": {
     "cell_type": "code",
     "checksum": "740454809fba534a13b2324779930da2",
     "grade": true,
     "grade_id": "cell-f8a2e24d0d4eff83",
     "locked": true,
     "points": 0,
     "schema_version": 3,
     "solution": false,
     "task": false
    }
   },
   "outputs": [],
   "source": [
    "if 'predictor' not in locals():\n",
    "    print(\"Error! You forgot to use name predictor for your regressor object!\")\n",
    "if predictor.fit_intercept==False:\n",
    "    print(\"Error! Set fit_intercept=True to \")\n",
    "if (predictor.intercept_<-0.9) or (predictor.intercept_>-0.1):\n",
    "    print(\"Error! Intercept is not properly defined. Perhaps you forgot fit_intercept=True?\")\n"
   ]
  },
  {
   "cell_type": "markdown",
   "metadata": {},
   "source": [
    "## Task 4: Classification by Neural Network\n",
    "\n",
    "Fill in the code below, to train a multilayer perceptron network to predict if a person survived or not from the Titanic. \n",
    "\n",
    " - Create first a predictor usind `MLPClassifier` -module, name it as mlp\n",
    "    - One hidden layer is enough, try parameter `hiddent_layer_sizes=(n)` where `n` is the number of hidden layers you want to use.\n",
    "    - define also `max_iter=1000`, to allow the algorithm to train long enough\n",
    " - Fit the predictor to the data: `mlp.fit()`\n",
    " - Predict the classes \n",
    " - Calculate and print the `accuracy_score`\n",
    " - Print the `confusion_matrix`\n",
    " - See the example from the lecture notes\n",
    " - Predict the probability of personX to survive from Titanic. Use `predict_proba()` -function of mlp. The function returns the probability of not surviving and probability of surviving."
   ]
  },
  {
   "cell_type": "code",
   "execution_count": null,
   "metadata": {
    "deletable": false,
    "nbgrader": {
     "cell_type": "code",
     "checksum": "d7b5ed4c1e0be14df2057960f9375147",
     "grade": false,
     "grade_id": "cell-9011bedc7c97e1ea",
     "locked": false,
     "schema_version": 3,
     "solution": true,
     "task": false
    }
   },
   "outputs": [],
   "source": [
    "from sklearn.metrics import accuracy_score, confusion_matrix\n",
    "from sklearn.neural_network import MLPClassifier\n",
    "\n",
    "# Read the data\n",
    "titanic = pd.read_csv(\"titanic_train.csv\")\n",
    "\n",
    "# Fill missing cabin names with empty strings\n",
    "titanic.Cabin.fillna(value='', inplace=True)\n",
    "\n",
    "# Fill missing ages with mean value (=29)\n",
    "titanic.Age.fillna(value=29, inplace=True)\n",
    "\n",
    "# Select usefull columns (numerical) for input\n",
    "X=titanic.iloc[:,[2,5,6,7,9]].copy()\n",
    "X['Female'] = (titanic.Sex=='female').astype('int')\n",
    "\n",
    "# Define a sample person profile to be predicted\n",
    "personX=X.iloc[1:2,:].copy()\n",
    "personX.Pclass=2\n",
    "personX.Age=32\n",
    "personX.SibSp=0\n",
    "personX.Parch=0\n",
    "personX.Fare=200\n",
    "personX.Female=0\n",
    "\n",
    "# Select survivability as output\n",
    "y=titanic.iloc[:,1]\n",
    "\n",
    "\n",
    "# YOUR CODE HERE\n",
    "raise NotImplementedError()"
   ]
  },
  {
   "cell_type": "code",
   "execution_count": null,
   "metadata": {
    "deletable": false,
    "editable": false,
    "nbgrader": {
     "cell_type": "code",
     "checksum": "8d100a1ba4c28c3df8379cd8c35c5063",
     "grade": true,
     "grade_id": "cell-f9f1b7fcd250bd3e",
     "locked": true,
     "points": 2,
     "schema_version": 3,
     "solution": false,
     "task": false
    }
   },
   "outputs": [],
   "source": [
    "if 'mlp' not in locals():\n",
    "    print(\"Error! You forgot to use name mlp for your regressor object!\")\n"
   ]
  },
  {
   "cell_type": "markdown",
   "metadata": {},
   "source": [
    "## Task 5: Machine learning\n",
    "\n",
    "Explain how machine learning is different than programming?"
   ]
  },
  {
   "cell_type": "markdown",
   "metadata": {
    "deletable": false,
    "nbgrader": {
     "cell_type": "markdown",
     "checksum": "94137c8a71f632397686a0a977dfdebd",
     "grade": true,
     "grade_id": "cell-92e6f1ad3158af96",
     "locked": false,
     "points": 2,
     "schema_version": 3,
     "solution": true,
     "task": false
    }
   },
   "source": [
    "YOUR ANSWER HERE"
   ]
  },
  {
   "cell_type": "code",
   "execution_count": null,
   "metadata": {},
   "outputs": [],
   "source": []
  }
 ],
 "metadata": {
  "kernelspec": {
   "display_name": "Python 3",
   "language": "python",
   "name": "python3"
  },
  "language_info": {
   "codemirror_mode": {
    "name": "ipython",
    "version": 3
   },
   "file_extension": ".py",
   "mimetype": "text/x-python",
   "name": "python",
   "nbconvert_exporter": "python",
   "pygments_lexer": "ipython3",
   "version": "3.7.8"
  }
 },
 "nbformat": 4,
 "nbformat_minor": 4
}
