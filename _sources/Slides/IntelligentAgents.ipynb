{
 "cells": [
  {
   "cell_type": "markdown",
   "id": "cc9b9702",
   "metadata": {
    "slideshow": {
     "slide_type": "slide"
    }
   },
   "source": [
    " <img src=\"kuvat/Clarke.png\" height=\"200\" align=\"right\"/>\n",
    "\n",
    "> Any sufficiently advanced technology is indistinguishable from magic.\n",
    "\n",
    "  / Arthur C. Clarke"
   ]
  },
  {
   "cell_type": "code",
   "execution_count": null,
   "id": "9bb24ddb",
   "metadata": {},
   "outputs": [],
   "source": []
  },
  {
   "cell_type": "markdown",
   "id": "a8a51bf8",
   "metadata": {
    "slideshow": {
     "slide_type": "fragment"
    }
   },
   "source": [
    "The explanations like:\n",
    " - This image recognition is based on Deep Neural Networks, or\n",
    " - This prediction is based on Support Vector Regresssion \n",
    " \n",
    "Are equal to \"it is magic\", if one does not understand AI."
   ]
  },
  {
   "cell_type": "markdown",
   "id": "a13f8b2a",
   "metadata": {
    "slideshow": {
     "slide_type": "fragment"
    }
   },
   "source": [
    "On the contrary to traditional magic, this course is going to reveal the tricks of the magicians who use AI tools."
   ]
  },
  {
   "cell_type": "markdown",
   "id": "b3e5cdd1",
   "metadata": {
    "slideshow": {
     "slide_type": "slide"
    }
   },
   "source": [
    " <img src=\"kuvat/robot.png\" height=\"200\" align=\"right\"/>\n",
    "\n",
    "# Intelligent agents\n",
    "\n",
    "One convenient abstraction for discussing AI is so called intelligent agent."
   ]
  },
  {
   "cell_type": "markdown",
   "id": "c841df9e",
   "metadata": {
    "slideshow": {
     "slide_type": "subslide"
    }
   },
   "source": [
    "## Intelligent agents\n",
    "\n",
    "An intelligent agent is something which acts and tries to pursue goals. An artificial intelligent agent is a machine or software. It has often sensors, to perceive the world and it may make actions to interact with the world\n",
    "\n",
    "![image.png](kuvat/intelligent_agents.png)\n",
    "\n",
    "\n",
    "The basic concept of an intelligent agent. It has sensors to measure information about the world (perception), it uses the information and it's internal state to make intelligent decisions and performs actions using its actuators to affect to the world."
   ]
  },
  {
   "cell_type": "markdown",
   "id": "34a9805a",
   "metadata": {
    "slideshow": {
     "slide_type": "subslide"
    }
   },
   "source": [
    "**Definition**:\n",
    "A rational agent is an agent which always selects an action that is expected to maximize its performance measure based on its perceptions and build in information about the world."
   ]
  },
  {
   "cell_type": "markdown",
   "id": "49475305",
   "metadata": {
    "slideshow": {
     "slide_type": "fragment"
    }
   },
   "source": [
    "**Discussion topic:**\n",
    "Can an intelligent agent be meaningful without perception or actuator or neither?"
   ]
  },
  {
   "cell_type": "markdown",
   "id": "fe04ed72",
   "metadata": {
    "slideshow": {
     "slide_type": "fragment"
    }
   },
   "source": [
    "**Discussion topic**:\n",
    "If two rational agents both maximize their performance measure based on their perceptions and build in information, can one be better than another?"
   ]
  },
  {
   "cell_type": "markdown",
   "id": "04e79a4f",
   "metadata": {
    "slideshow": {
     "slide_type": "subslide"
    }
   },
   "source": [
    "Intelligent agents can be divided in four classes based on their cognitive abilities and level of sophistication:\n",
    "\n",
    "1. Simple reflex agents\n",
    "1. Model based agents\n",
    "1. Goal based agents\n",
    "1. Utility based agents"
   ]
  },
  {
   "cell_type": "markdown",
   "id": "1fad7556",
   "metadata": {
    "slideshow": {
     "slide_type": "subslide"
    }
   },
   "source": [
    "### Simple reflex agents\n",
    " - These agents are reactive systems\n",
    " - perform simple actions based on their perception \n",
    " \n",
    "One example of really simple agent of this kind is a motion sensor based outdoor light controller:\n",
    "\n",
    "$$\n",
    "  \\mbox{Light} = \\begin{cases}\n",
    "    1, & \\mbox{if (dark AND movement_observed)} \\\\\n",
    "    0, & \\mbox{otherwise }\n",
    "  \\end{cases}\n",
    "$$\n",
    "\n",
    "- Operation is based on a simple logical rule to combine two input variables to make a decision for taking an action. \n",
    "- In general the decision system can be arbitrary complex and include also many other inference methods than logics.\n",
    "- Because the agent acts based only on its perceptions it will run into troubles if the world is only partially observable."
   ]
  },
  {
   "cell_type": "markdown",
   "id": "fb763f0e",
   "metadata": {
    "slideshow": {
     "slide_type": "subslide"
    }
   },
   "source": [
    "The simple reflex agent makes its decisions based only on the perceptions and decision rules.\n",
    "\n",
    "![image.png](kuvat/reflex_agents.png)"
   ]
  },
  {
   "cell_type": "code",
   "execution_count": 1,
   "id": "f5aba9cc",
   "metadata": {
    "slideshow": {
     "slide_type": "subslide"
    }
   },
   "outputs": [
    {
     "ename": "KeyboardInterrupt",
     "evalue": "",
     "output_type": "error",
     "traceback": [
      "\u001b[0;31m---------------------------------------------------------------------------\u001b[0m",
      "\u001b[0;31mKeyboardInterrupt\u001b[0m                         Traceback (most recent call last)",
      "\u001b[0;32m/tmp/ipykernel_1579784/430829792.py\u001b[0m in \u001b[0;36m<module>\u001b[0;34m\u001b[0m\n\u001b[1;32m      5\u001b[0m     \u001b[0;31m# Perceptions\u001b[0m\u001b[0;34m\u001b[0m\u001b[0;34m\u001b[0m\u001b[0;34m\u001b[0m\u001b[0m\n\u001b[1;32m      6\u001b[0m     \u001b[0mLight\u001b[0m \u001b[0;34m=\u001b[0m \u001b[0mgetSunlight\u001b[0m\u001b[0;34m(\u001b[0m\u001b[0;34m)\u001b[0m\u001b[0;34m\u001b[0m\u001b[0;34m\u001b[0m\u001b[0m\n\u001b[0;32m----> 7\u001b[0;31m     \u001b[0mMovement\u001b[0m \u001b[0;34m=\u001b[0m \u001b[0mreadMovementSensor\u001b[0m\u001b[0;34m(\u001b[0m\u001b[0;34m)\u001b[0m\u001b[0;34m\u001b[0m\u001b[0;34m\u001b[0m\u001b[0m\n\u001b[0m\u001b[1;32m      8\u001b[0m \u001b[0;34m\u001b[0m\u001b[0m\n\u001b[1;32m      9\u001b[0m     \u001b[0;31m# Decision making\u001b[0m\u001b[0;34m\u001b[0m\u001b[0;34m\u001b[0m\u001b[0;34m\u001b[0m\u001b[0m\n",
      "\u001b[0;32m~/Kurssit/AI/AI_Book/Slides/Agent.py\u001b[0m in \u001b[0;36mreadMovementSensor\u001b[0;34m()\u001b[0m\n\u001b[1;32m      6\u001b[0m     \u001b[0;32mreturn\u001b[0m \u001b[0;36m30\u001b[0m\u001b[0;34m\u001b[0m\u001b[0;34m\u001b[0m\u001b[0m\n\u001b[1;32m      7\u001b[0m \u001b[0;34m\u001b[0m\u001b[0m\n\u001b[0;32m----> 8\u001b[0;31m \u001b[0;32mdef\u001b[0m \u001b[0mreadMovementSensor\u001b[0m\u001b[0;34m(\u001b[0m\u001b[0;34m)\u001b[0m\u001b[0;34m:\u001b[0m\u001b[0;34m\u001b[0m\u001b[0;34m\u001b[0m\u001b[0m\n\u001b[0m\u001b[1;32m      9\u001b[0m     \u001b[0;32mreturn\u001b[0m \u001b[0;32mFalse\u001b[0m\u001b[0;34m\u001b[0m\u001b[0;34m\u001b[0m\u001b[0m\n\u001b[1;32m     10\u001b[0m \u001b[0;34m\u001b[0m\u001b[0m\n",
      "\u001b[0;31mKeyboardInterrupt\u001b[0m: "
     ]
    }
   ],
   "source": [
    "from Agent import getSunlight, readMovementSensor, SwitchLighting\n",
    "\n",
    "# Loop forewer\n",
    "while True:\n",
    "    # Perceptions\n",
    "    Light = getSunlight()\n",
    "    Movement = readMovementSensor()\n",
    "    \n",
    "    # Decision making\n",
    "    if (Light < 0.25) and (Movement==True):\n",
    "        LightState=1\n",
    "    else:\n",
    "        LightState=0\n",
    "        \n",
    "    # Action\n",
    "    SwitchLighting(LightState)\n",
    "    \n",
    "    # Do it again :-)"
   ]
  },
  {
   "cell_type": "markdown",
   "id": "9b528d00",
   "metadata": {
    "slideshow": {
     "slide_type": "subslide"
    }
   },
   "source": [
    "### Model based reflex agents\n",
    " - In addition to perception and actuators, the model based agent uses a model which describes some necessary behavior of the world. \n",
    " - With the model, the agent \"understands\" something about how the world behaves, and can make predictions on how the actions changes the world. \n",
    " - If the world is only partially observable, the agent can build a model which covers also the concealed information.\n",
    "\n",
    "For example the collision avoidance system of an autonomous car can predict that even though the cars are still far away from each other, a collision is happening after a certain time, because the velocity of the car in front drives slower. The time to the collision can be estimated using physics:\n",
    "\n",
    "$$\n",
    "   t = \\frac{\\Delta s}{v_s - v_o}\n",
    "$$"
   ]
  },
  {
   "cell_type": "markdown",
   "id": "b85c0683",
   "metadata": {
    "slideshow": {
     "slide_type": "subslide"
    }
   },
   "source": [
    " - In this case, the agent needs to perceive \n",
    "   - the distance between cars using a radar, for example \n",
    "   - its own speed by GPS. \n",
    " - It uses it's own physical model to estimate the time for collision $ t = \\frac{\\Delta s}{v_s - v_o}$\n",
    " - it may decide to apply necessary breaking force by activating breaks.\n",
    " - The agent would probably need some model of Newton mechanics to estimate the effect of the breaking force to the car speed. $F=m\\cdot a$\n",
    "\n",
    "An automated vehicle could have a model of the roads in the city and it can therefore turn from the current road to the named street from the right crossing."
   ]
  },
  {
   "cell_type": "markdown",
   "id": "9cb1b49c",
   "metadata": {
    "slideshow": {
     "slide_type": "subslide"
    }
   },
   "source": [
    "![image.png](kuvat/modelbased_agents.png)\n",
    "\n",
    "In addition to peceptions and decision rules, the model based agent has also a model and state of the world to allow it to make more complex decisions than the simple reflex agent."
   ]
  },
  {
   "cell_type": "code",
   "execution_count": null,
   "id": "3e1d87a5",
   "metadata": {
    "slideshow": {
     "slide_type": "subslide"
    }
   },
   "outputs": [],
   "source": [
    "from Agent import findObstacle, getDistanceToObstacle, Break\n",
    "\n",
    "# State consist of current acceleration and speed. Lets initialize them\n",
    "v=20  # Speed [m/s]\n",
    "a=0   # Acceleration [m/s²]\n",
    "m=1200 # The mass of the car [kg]\n",
    "\n",
    "# Loop forewer\n",
    "while True:\n",
    "    # Perceptions\n",
    "    obstacle = findObstacle()\n",
    "    Delta_s = getDistanceToObstacle()\n",
    "    \n",
    "    # State consist of current acceleration and speed\n",
    "    # a, v\n",
    "    \n",
    "    # Decision making\n",
    "    if obstacle:\n",
    "        if Delta_s < 100:\n",
    "            Delta_t = Delta_s/v\n",
    "            a = v / Delta_t\n",
    "            F=m*a\n",
    "    else:\n",
    "        F=0\n",
    "        a=0\n",
    "\n",
    "    # Action: Apply breaks if F>0\n",
    "    Break(F)\n",
    "    \n",
    "    # Do it again :-)"
   ]
  },
  {
   "cell_type": "markdown",
   "id": "f603f482",
   "metadata": {
    "slideshow": {
     "slide_type": "subslide"
    }
   },
   "source": [
    "### Goal based agents\n",
    "\n",
    "The goal based agents are not only reacting to the current situation but instead they plan to reach their goals. The planning usually demands a model which they can use for searching action sequences for reaching the goal. For example autonomous taxi can find a way to the target by searching it's model (the map) and can carry out actions (steering) to reach the goal.\n",
    "\n",
    "![image.png](kuvat/goal_agents.png)\n",
    "\n",
    "\n",
    "The goal based agents can also assess the probable consequences of their actions and they are therefore capable of planning."
   ]
  },
  {
   "cell_type": "markdown",
   "id": "bd11c1b4",
   "metadata": {
    "slideshow": {
     "slide_type": "subslide"
    }
   },
   "source": [
    "### Utility based agents\n",
    "\n",
    "Utility, the fitness or worth for some purposes. An action has higher utility if it is more usefull or leads to smaller losses in the given situation. The goal of the optimization is to maximize the utility. Exactly symmetrical optimization goal is to minimize losses, since losses are negative utility and utility is negative loss. Utility based agents try to behave so that the utility gained by their actions is maximized. In other words, they try to reach their goal in an optimal way.\n",
    "\n",
    "![image.png](kuvat/utility_agents.png)\n",
    "\n",
    "The utility agents extend the goal and model based agents by also considering the utility what is gained by reaching the goal through different action sequences."
   ]
  },
  {
   "cell_type": "markdown",
   "id": "51a69f54",
   "metadata": {
    "slideshow": {
     "slide_type": "subslide"
    }
   },
   "source": [
    "For example, an automated vehicle controlled by a utility based agent would try to find an optimal path from the current location to the destination. The utility could be for example the negative of time spend or fuel consumed, or a combination of both. The agent may have many optional actions to take, and the utility agent selects the one which according to it's knowledge or beliefs leads to higher utility."
   ]
  },
  {
   "cell_type": "markdown",
   "id": "e04e4910",
   "metadata": {
    "slideshow": {
     "slide_type": "subslide"
    }
   },
   "source": [
    "### Learning agents\n",
    "\n",
    "Alan Turing estimated in 1950 the amount of programming needed to gain AI. According to methods of 50's, he estimated that programming of AI which had similar capabilities than a person would take 50 years. He concludes that *Some more expeditious method seems desirable*, and proposes a learning machine \n",
    "\n",
    "In contrast to programmed AI, the learning AI learns the rules behind the actions without explicit programming. The benefits are that the agent can operate in an environment, which is initially unknown. In a long run it can also learn rules which would be very complex to program. \n",
    "\n",
    "The structure of the learning agent is consisted of the following four components\n",
    "1. *Performance element*\n",
    "1. *Critic element*\n",
    "1. *Learning element*\n",
    "1. *Problem generator*"
   ]
  },
  {
   "cell_type": "markdown",
   "id": "c75558ee",
   "metadata": {
    "slideshow": {
     "slide_type": "subslide"
    }
   },
   "source": [
    "![image.png](kuvat/learning_agents.png)\n",
    "\n",
    "1. *Performance element* receives perceptions from the sensors and carries out actions by using actuators. This element includes the operations of the previously described agents, but here it also exhanges information with the learning element and receives suggestions from the problem generator.\n",
    "1. *Critic element* observes the perceptions and uses the performance standard to assess how well the agent is performing and provides that information to the learning element. \n",
    "1. *Learning element* is responsible on making improvements on the performance element according to the feedback received from the citic element.\n",
    "1. *Problem generator* suggests actions leading to new and informative experiences to explore the world to find even better solutions in the long run."
   ]
  },
  {
   "cell_type": "markdown",
   "id": "b5893abf",
   "metadata": {
    "slideshow": {
     "slide_type": "subslide"
    }
   },
   "source": [
    "![image.png](kuvat/learning_agents.png)\n",
    "\n",
    "\n",
    "The learning agents extend the previous agents by adding a critic, learning and problem generator elements. The critic element provides feedback to the learning element, which updates the performance element. The learning element sets new learning goals to the problem generator, which suggest new exploratory actions to the performance element to explore unknown ares of the world."
   ]
  },
  {
   "cell_type": "markdown",
   "id": "848430e9",
   "metadata": {
    "slideshow": {
     "slide_type": "subslide"
    }
   },
   "source": [
    "**Discussion topic**\n",
    "Can any agent act meaningfully if a world is not observable at all?\n",
    "\n",
    "\n",
    "**Discussion topic**\n",
    "How would an autonomous car or vacuum cleaner would work, if it was simple reflex, model based goal based or utility based agent? How would learning change the behaviour?"
   ]
  },
  {
   "cell_type": "code",
   "execution_count": null,
   "id": "dc0c2e74",
   "metadata": {
    "slideshow": {
     "slide_type": "subslide"
    }
   },
   "outputs": [],
   "source": [
    "print(\"The End\")"
   ]
  }
 ],
 "metadata": {
  "jupytext": {
   "formats": "ipynb,md:myst",
   "text_representation": {
    "extension": ".md",
    "format_name": "myst",
    "format_version": 0.13,
    "jupytext_version": "1.10.3"
   }
  },
  "kernelspec": {
   "display_name": "Python 3 (ipykernel)",
   "language": "python",
   "name": "python3"
  },
  "language_info": {
   "codemirror_mode": {
    "name": "ipython",
    "version": 3
   },
   "file_extension": ".py",
   "mimetype": "text/x-python",
   "name": "python",
   "nbconvert_exporter": "python",
   "pygments_lexer": "ipython3",
   "version": "3.9.2"
  },
  "source_map": [
   15,
   24,
   28,
   36,
   40,
   48,
   59,
   64,
   69,
   74,
   83,
   102,
   108,
   133,
   146,
   157,
   163,
   200,
   211,
   221,
   225,
   239,
   248,
   255,
   264
  ]
 },
 "nbformat": 4,
 "nbformat_minor": 5
}