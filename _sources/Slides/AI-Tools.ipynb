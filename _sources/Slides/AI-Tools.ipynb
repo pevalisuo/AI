{
 "cells": [
  {
   "cell_type": "markdown",
   "id": "b4418c0b",
   "metadata": {
    "slideshow": {
     "slide_type": "slide"
    }
   },
   "source": [
    "# AI Tools"
   ]
  },
  {
   "cell_type": "markdown",
   "id": "2fe31fa4",
   "metadata": {
    "slideshow": {
     "slide_type": "subslide"
    }
   },
   "source": [
    " <img src=\"kuvat/Clarke.png\" height=\"200\" align=\"right\"/>\n",
    "\n",
    "> Any sufficiently advanced technology is indistinguishable from magic.\n",
    "\n",
    "  / Arthur C. Clarke\n",
    " \n"
   ]
  },
  {
   "cell_type": "markdown",
   "id": "e0267a7b",
   "metadata": {
    "slideshow": {
     "slide_type": "fragment"
    }
   },
   "source": [
    "The explanations like:\n",
    " - This image recognition is based on Deep Neural Networks, or\n",
    " - This prediction is based on Support Vector Regresssion \n",
    " \n",
    "Are equal to \"it is magic\", if one does not understand AI. "
   ]
  },
  {
   "cell_type": "markdown",
   "id": "2ad40941",
   "metadata": {
    "slideshow": {
     "slide_type": "fragment"
    }
   },
   "source": [
    "On the contrary to traditional magic, this course is going to reveal the tricks of the magicians who use AI tools."
   ]
  },
  {
   "cell_type": "code",
   "execution_count": null,
   "id": "448294e3",
   "metadata": {
    "slideshow": {
     "slide_type": "subslide"
    }
   },
   "outputs": [],
   "source": []
  }
 ],
 "metadata": {
  "celltoolbar": "Slideshow",
  "kernelspec": {
   "display_name": "Python 3 (ipykernel)",
   "language": "python",
   "name": "python3"
  },
  "language_info": {
   "codemirror_mode": {
    "name": "ipython",
    "version": 3
   },
   "file_extension": ".py",
   "mimetype": "text/x-python",
   "name": "python",
   "nbconvert_exporter": "python",
   "pygments_lexer": "ipython3",
   "version": "3.9.2"
  },
  "toc": {
   "base_numbering": 1,
   "nav_menu": {},
   "number_sections": true,
   "sideBar": true,
   "skip_h1_title": false,
   "title_cell": "Table of Contents",
   "title_sidebar": "Contents",
   "toc_cell": false,
   "toc_position": {},
   "toc_section_display": true,
   "toc_window_display": false
  }
 },
 "nbformat": 4,
 "nbformat_minor": 5
}
